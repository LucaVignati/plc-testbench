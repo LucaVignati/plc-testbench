{
 "cells": [
  {
   "cell_type": "markdown",
   "metadata": {},
   "source": [
    "# ECCTestbench"
   ]
  },
  {
   "cell_type": "code",
   "execution_count": null,
   "metadata": {},
   "outputs": [],
   "source": [
    "from ecctestbench.data_manager import DataManager\n",
    "from ecctestbench.path_manager import PathManager\n",
    "from ecctestbench.settings import Settings\n",
    "%matplotlib inline\n",
    "\n",
    "settings = Settings(packet_size=64, fs = 48000, per=0.005, peaq_mode=\"basic\", seed=234, model_path = \"../saved_models/model_bs256_100epochs_0.01_1e-3_1e-7\", p=0.001, r=0.05, h=0.5, k=0.99999900)\n",
    "path_manager = PathManager('../original_tracks')\n",
    "data_manager = DataManager(path_manager)"
   ]
  },
  {
   "cell_type": "code",
   "execution_count": null,
   "metadata": {
    "scrolled": false,
    "tags": [
     "outputPrepend",
     "outputPrepend"
    ]
   },
   "outputs": [],
   "source": [
    "from ecctestbench.ecc_testbench import ECCTestbench\n",
    "from ecctestbench.loss_simulator import BinomialLossModel, GilbertElliotLossModel, PacketLossSimulator, SampleLossSimulator\n",
    "from ecctestbench.ecc_algorithm import ZerosEcc, LastPacketEcc, LowCostEcc, ExternalEcc, DeepLearningEcc\n",
    "from ecctestbench.output_analyser import MSECalculator, PEAQCalculator, SpectralEnergyCalculator\n",
    "\n",
    "loss_simulators = [(PacketLossSimulator, GilbertElliotLossModel), (PacketLossSimulator, BinomialLossModel)]\n",
    "ecc_algorithms = [LowCostEcc, ZerosEcc]\n",
    "output_analysers = [MSECalculator, PEAQCalculator]\n",
    "\n",
    "testbench = ECCTestbench(loss_simulators, ecc_algorithms, output_analysers, settings, data_manager, path_manager)\n",
    "\n",
    "testbench.run()"
   ]
  },
  {
   "cell_type": "code",
   "execution_count": null,
   "metadata": {},
   "outputs": [],
   "source": [
    "testbench.plot(show=False, to_file=True, group=False, original_tracks=True, lost_samples_masks=True, output_analyses=True, peaq_summary=False)"
   ]
  }
 ],
 "metadata": {
  "kernelspec": {
   "display_name": "Python 3.8.10 ('.venv': venv)",
   "language": "python",
   "name": "python3"
  },
  "language_info": {
   "codemirror_mode": {
    "name": "ipython",
    "version": 3
   },
   "file_extension": ".py",
   "mimetype": "text/x-python",
   "name": "python",
   "nbconvert_exporter": "python",
   "pygments_lexer": "ipython3",
   "version": "3.8.10"
  },
  "vscode": {
   "interpreter": {
    "hash": "1c8aad12842caaa42acf6966f6c84c4d8a5a45c49df7442a7f6731f34b798aae"
   }
  }
 },
 "nbformat": 4,
 "nbformat_minor": 4
}

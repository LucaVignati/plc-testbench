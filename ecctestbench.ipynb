{
 "cells": [
  {
   "cell_type": "markdown",
   "metadata": {},
   "source": [
    "# ECCTestbench"
   ]
  },
  {
   "cell_type": "code",
   "execution_count": null,
   "metadata": {},
   "outputs": [],
   "source": [
    "from ecctestbench.data_manager import DataManager\n",
    "from ecctestbench.path_manager import PathManager\n",
    "from ecctestbench.settings import Settings\n",
    "%matplotlib inline\n",
    "\n",
    "settings = Settings(fs = 48000, per=0.005, peaq_mode=\"basic\", seed=234)\n",
    "path_manager = PathManager('../original_tracks')\n",
    "data_manager = DataManager(path_manager)"
   ]
  },
  {
   "cell_type": "code",
   "execution_count": null,
   "metadata": {
    "scrolled": false,
    "tags": [
     "outputPrepend",
     "outputPrepend"
    ]
   },
   "outputs": [],
   "source": [
    "from ecctestbench.ecc_testbench import ECCTestbench\n",
    "from ecctestbench.loss_simulator import BinomialLossModel, GilbertElliotLossModel, PacketLossSimulator, SampleLossSimulator\n",
    "from ecctestbench.ecc_algorithm import ZerosEcc, LastPacketEcc, ExternalEcc\n",
    "from ecctestbench.output_analyser import MSECalculator, PEAQCalculator, SpectralEnergyCalculator\n",
    "\n",
    "loss_simulators = [(PacketLossSimulator, BinomialLossModel), (PacketLossSimulator, GilbertElliotLossModel)]\n",
    "ecc_algorithms = [ZerosEcc, LastPacketEcc, ExternalEcc]\n",
    "output_analysers = [MSECalculator, PEAQCalculator]\n",
    "\n",
    "testbench = ECCTestbench(loss_simulators, ecc_algorithms, output_analysers, settings, data_manager, path_manager)\n",
    "\n",
    "testbench.run()"
   ]
  },
  {
   "cell_type": "code",
   "execution_count": null,
   "metadata": {},
   "outputs": [],
   "source": [
    "testbench.plot(show=False, to_file=True, group=True, original_tracks=False)"
   ]
  },
  {
   "cell_type": "code",
   "execution_count": null,
   "metadata": {},
   "outputs": [],
   "source": [
    "from ecctestbench.data_manager import DataManager\n",
    "from ecctestbench.path_manager import PathManager\n",
    "from ecctestbench.settings import Settings\n",
    "%matplotlib inline\n",
    "\n",
    "settings = Settings(fs = 48000, per=0.5, seed=234)\n",
    "path_manager = PathManager('../original_tracks')\n",
    "data_manager = DataManager(path_manager)\n",
    "\n",
    "from ecctestbench.ecc_testbench import ECCTestbench\n",
    "from ecctestbench.loss_simulator import BinomialLossModel, GilbertElliotLossModel, PacketLossSimulator, SampleLossSimulator\n",
    "from ecctestbench.ecc_algorithm import ZerosEcc, LastPacketEcc, ExternalEcc\n",
    "from ecctestbench.output_analyser import MSECalculator, PEAQCalculator, SpectralEnergyCalculator\n",
    "\n",
    "loss_simulators = [(PacketLossSimulator, BinomialLossModel)]\n",
    "ecc_algorithms = [ZerosEcc]\n",
    "output_analysers = [PEAQCalculator]\n",
    "\n",
    "testbench = ECCTestbench(loss_simulators, ecc_algorithms, output_analysers, settings, data_manager, path_manager)\n",
    "\n",
    "testbench.run()\n",
    "\n",
    "testbench.plot(show=False, to_file=True, group=True, original_tracks=False)"
   ]
  }
 ],
 "metadata": {
  "interpreter": {
   "hash": "916dbcbb3f70747c44a77c7bcd40155683ae19c65e1c03b4aa3499c5328201f1"
  },
  "kernelspec": {
   "display_name": "Python 3.8.10 64-bit",
   "name": "python3"
  },
  "language_info": {
   "codemirror_mode": {
    "name": "ipython",
    "version": 3
   },
   "file_extension": ".py",
   "mimetype": "text/x-python",
   "name": "python",
   "nbconvert_exporter": "python",
   "pygments_lexer": "ipython3",
   "version": "3.8.10"
  }
 },
 "nbformat": 4,
 "nbformat_minor": 4
}

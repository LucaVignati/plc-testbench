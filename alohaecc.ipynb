{
 "cells": [
  {
   "cell_type": "markdown",
   "metadata": {},
   "source": [
    "# AlohaECC"
   ]
  },
  {
   "cell_type": "code",
   "execution_count": 1,
   "metadata": {},
   "outputs": [],
   "source": [
    "from ecctestbench.data_manager import DataManager\n",
    "from ecctestbench.path_manager import PathManager\n",
    "from ecctestbench.settings import Settings\n",
    "\n",
    "settings = Settings(fs = 48000, per=0.005)\n",
    "path_manager = PathManager('../original_tracks')\n",
    "data_manager = DataManager(path_manager)"
   ]
  },
  {
   "cell_type": "code",
   "execution_count": 2,
   "metadata": {
    "scrolled": false,
    "tags": [
     "outputPrepend",
     "outputPrepend"
    ]
   },
   "outputs": [],
   "source": [
    "from ecctestbench.ecc_testbench import ECCTestbench\n",
    "from ecctestbench.packet_loss_simulator import BasePacketLossSimulator, BinomialPacketLossSimulator, BinomialSampleLossSimulator\n",
    "from ecctestbench.ecc_algorithm import ZerosEcc, LastPacketEcc\n",
    "from ecctestbench.output_analyser import MSECalculator, PEAQCalculator, SpectralEnergyCalculator\n",
    "\n",
    "packet_loss_simulators = [BinomialSampleLossSimulator, BinomialPacketLossSimulator]\n",
    "ecc_algorithms = [ZerosEcc]\n",
    "output_analysers = [MSECalculator]\n",
    "\n",
    "testbench = ECCTestbench(packet_loss_simulators, ecc_algorithms, output_analysers, settings, data_manager, path_manager)\n",
    "\n",
    "testbench.run()"
   ]
  }
 ],
 "metadata": {
  "interpreter": {
   "hash": "916dbcbb3f70747c44a77c7bcd40155683ae19c65e1c03b4aa3499c5328201f1"
  },
  "kernelspec": {
   "display_name": "Python 3.8.10 64-bit",
   "name": "python3"
  },
  "language_info": {
   "codemirror_mode": {
    "name": "ipython",
    "version": 3
   },
   "file_extension": ".py",
   "mimetype": "text/x-python",
   "name": "python",
   "nbconvert_exporter": "python",
   "pygments_lexer": "ipython3",
   "version": "3.8.10"
  }
 },
 "nbformat": 4,
 "nbformat_minor": 4
}

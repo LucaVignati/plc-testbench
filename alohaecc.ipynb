{
 "cells": [
  {
   "cell_type": "markdown",
   "metadata": {},
   "source": [
    "# AlohaECC"
   ]
  },
  {
   "cell_type": "code",
   "execution_count": 3,
   "metadata": {},
   "outputs": [],
   "source": [
    "import glob as gb\n",
    "import matplotlib.pyplot as plt \n",
    "\n",
    "input_waves = gb.glob('./**/*/*.wav', recursive=True)\n",
    "\n",
    "# TODO: plots of original signal data."
   ]
  },
  {
   "cell_type": "code",
   "execution_count": 4,
   "metadata": {
    "scrolled": false
   },
   "outputs": [],
   "source": [
    "from alohaecc.ecc_testbench import ecc_testbench\n",
    "from alohaecc.ecc_algorithm import zeros_ecc, last_packet_ecc\n",
    "\n",
    "ecc_algorithm = last_packet_ecc\n",
    "\n",
    "testbench = ecc_testbench(ecc_algorithm)\n",
    "\n",
    "results = testbench.run(input_waves)"
   ]
  }
 ],
 "metadata": {
  "kernelspec": {
   "display_name": "Python 3.7.7 64-bit ('ECCenv': conda)",
   "language": "python",
   "name": "python37764biteccenvcondaf36a683b49c94f66b70c861d2ecd47c9"
  },
  "language_info": {
   "codemirror_mode": {
    "name": "ipython",
    "version": 3
   },
   "file_extension": ".py",
   "mimetype": "text/x-python",
   "name": "python",
   "nbconvert_exporter": "python",
   "pygments_lexer": "ipython3",
   "version": "3.7.6-final"
  }
 },
 "nbformat": 4,
 "nbformat_minor": 4
}
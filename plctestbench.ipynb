{
 "cells": [
  {
   "attachments": {},
   "cell_type": "markdown",
   "metadata": {},
   "source": [
    "# PLCTestbench"
   ]
  },
  {
   "cell_type": "code",
   "execution_count": 1,
   "metadata": {},
   "outputs": [],
   "source": [
    "from plctestbench.data_manager import DataManager\n",
    "from plctestbench.path_manager import PathManager\n",
    "from plctestbench.settings import GlobalSettings, BinomialPLSSettings, GilbertElliotPLSSettings, ZeroPLCSettings, LowCostPLCSettings, PEAQCalculatorSettings, MSECalculatorSettings\n",
    "%matplotlib inline\n",
    "\n",
    "global_settings = [GlobalSettings(packet_size=64, fs = 48000)]\n",
    "path_manager = PathManager('C:\\\\Data\\\\personale\\\\Università\\\\2022-2023\\\\original_tracks')\n",
    "data_manager = DataManager(path_manager)"
   ]
  },
  {
   "cell_type": "code",
   "execution_count": 2,
   "metadata": {
    "scrolled": false,
    "tags": [
     "outputPrepend",
     "outputPrepend"
    ]
   },
   "outputs": [
    {
     "data": {
      "application/vnd.jupyter.widget-view+json": {
       "model_id": "3f75295d69cb4dec91e7ca57017f53df",
       "version_major": 2,
       "version_minor": 0
      },
      "text/plain": [
       "Audio Tracks:   0%|          | 0/4 [00:00<?, ?it/s]"
      ]
     },
     "metadata": {},
     "output_type": "display_data"
    },
    {
     "name": "stdout",
     "output_type": "stream",
     "text": [
      "C:\\Data\\personale\\Università\\2022-2023\\original_tracks\\Blues_Bass\n"
     ]
    },
    {
     "data": {
      "application/vnd.jupyter.widget-view+json": {
       "model_id": "e246bbb4bd444815a85c941c6cea2f24",
       "version_major": 2,
       "version_minor": 0
      },
      "text/plain": [
       "<plctestbench.worker.OriginalTrackWorker object at 0x00000237722BC0B8>:   0%|          | 0/10 [00:00<?, ?it/s]"
      ]
     },
     "metadata": {},
     "output_type": "display_data"
    },
    {
     "name": "stdout",
     "output_type": "stream",
     "text": [
      "Worker 37f78e25-5627-4860-95d4-ec547bb52be6 (OriginalTrackWorker)\n",
      "Worker 37f78e25-5627-4860-95d4-ec547bb52be6 (OriginalTrackWorker)\n",
      "Worker 37f78e25-5627-4860-95d4-ec547bb52be6 (OriginalTrackWorker)\n",
      "Worker 37f78e25-5627-4860-95d4-ec547bb52be6 (OriginalTrackWorker)\n",
      "Worker 37f78e25-5627-4860-95d4-ec547bb52be6 (OriginalTrackWorker)\n",
      "Worker 37f78e25-5627-4860-95d4-ec547bb52be6 (OriginalTrackWorker)\n",
      "Worker 37f78e25-5627-4860-95d4-ec547bb52be6 (OriginalTrackWorker)\n",
      "Worker 37f78e25-5627-4860-95d4-ec547bb52be6 (OriginalTrackWorker)\n",
      "Worker 37f78e25-5627-4860-95d4-ec547bb52be6 (OriginalTrackWorker)\n",
      "Worker 37f78e25-5627-4860-95d4-ec547bb52be6 (OriginalTrackWorker)\n"
     ]
    },
    {
     "data": {
      "application/vnd.jupyter.widget-view+json": {
       "model_id": "1b5f792d1d03462ab9507649a1c8354b",
       "version_major": 2,
       "version_minor": 0
      },
      "text/plain": [
       "GilbertElliotPLS_s234:   0%|          | 0/3951360 [00:00<?, ?it/s]"
      ]
     },
     "metadata": {},
     "output_type": "display_data"
    },
    {
     "data": {
      "application/vnd.jupyter.widget-view+json": {
       "model_id": "f98e9fdfa26442cfb2277ac2350f35e6",
       "version_major": 2,
       "version_minor": 0
      },
      "text/plain": [
       "BinomialPLS_s1:   0%|          | 0/3951360 [00:00<?, ?it/s]"
      ]
     },
     "metadata": {},
     "output_type": "display_data"
    },
    {
     "data": {
      "application/vnd.jupyter.widget-view+json": {
       "model_id": "bc8ec72974dc4c4b8a6a92274259b4ed",
       "version_major": 2,
       "version_minor": 0
      },
      "text/plain": [
       "LowCostPLC:   0%|          | 0/61740 [00:00<?, ?it/s]"
      ]
     },
     "metadata": {},
     "output_type": "display_data"
    },
    {
     "data": {
      "application/vnd.jupyter.widget-view+json": {
       "model_id": "7358f28649334ddeae6c655d881ce42a",
       "version_major": 2,
       "version_minor": 0
      },
      "text/plain": [
       "ZerosPLC:   0%|          | 0/61740 [00:00<?, ?it/s]"
      ]
     },
     "metadata": {},
     "output_type": "display_data"
    },
    {
     "data": {
      "application/vnd.jupyter.widget-view+json": {
       "model_id": "04272181c3e84f52a0144d28f2a857b1",
       "version_major": 2,
       "version_minor": 0
      },
      "text/plain": [
       "LowCostPLC:   0%|          | 0/61740 [00:00<?, ?it/s]"
      ]
     },
     "metadata": {},
     "output_type": "display_data"
    },
    {
     "data": {
      "application/vnd.jupyter.widget-view+json": {
       "model_id": "9d18eb23e1a9497295ee7759e58d1f6a",
       "version_major": 2,
       "version_minor": 0
      },
      "text/plain": [
       "ZerosPLC:   0%|          | 0/61740 [00:00<?, ?it/s]"
      ]
     },
     "metadata": {},
     "output_type": "display_data"
    },
    {
     "data": {
      "application/vnd.jupyter.widget-view+json": {
       "model_id": "c133e767a8d44725ae8cbb91002d9442",
       "version_major": 2,
       "version_minor": 0
      },
      "text/plain": [
       "MSECalculator:   0%|          | 0/7716 [00:00<?, ?it/s]"
      ]
     },
     "metadata": {},
     "output_type": "display_data"
    },
    {
     "data": {
      "application/vnd.jupyter.widget-view+json": {
       "model_id": "cfacf61fe2184852ac972c0482d43adc",
       "version_major": 2,
       "version_minor": 0
      },
      "text/plain": [
       "MSECalculator:   0%|          | 0/7716 [00:00<?, ?it/s]"
      ]
     },
     "metadata": {},
     "output_type": "display_data"
    },
    {
     "data": {
      "application/vnd.jupyter.widget-view+json": {
       "model_id": "a2e40870573d4af08e07523a99e9b897",
       "version_major": 2,
       "version_minor": 0
      },
      "text/plain": [
       "MSECalculator:   0%|          | 0/7716 [00:00<?, ?it/s]"
      ]
     },
     "metadata": {},
     "output_type": "display_data"
    },
    {
     "data": {
      "application/vnd.jupyter.widget-view+json": {
       "model_id": "c156e13b85c540639f964ac730cfb599",
       "version_major": 2,
       "version_minor": 0
      },
      "text/plain": [
       "MSECalculator:   0%|          | 0/7716 [00:00<?, ?it/s]"
      ]
     },
     "metadata": {},
     "output_type": "display_data"
    },
    {
     "name": "stdout",
     "output_type": "stream",
     "text": [
      "C:\\Data\\personale\\Università\\2022-2023\\original_tracks\\Blues_Bass_norm\n"
     ]
    },
    {
     "data": {
      "application/vnd.jupyter.widget-view+json": {
       "model_id": "741271c22ffb4c60b57cc0c3a6536ff8",
       "version_major": 2,
       "version_minor": 0
      },
      "text/plain": [
       "<plctestbench.worker.OriginalTrackWorker object at 0x0000023757B32160>:   0%|          | 0/10 [00:00<?, ?it/s]"
      ]
     },
     "metadata": {},
     "output_type": "display_data"
    },
    {
     "name": "stdout",
     "output_type": "stream",
     "text": [
      "Worker 37f78e25-5627-4860-95d4-ec547bb52be6 (OriginalTrackWorker)\n",
      "Worker 37f78e25-5627-4860-95d4-ec547bb52be6 (OriginalTrackWorker)\n",
      "Worker 37f78e25-5627-4860-95d4-ec547bb52be6 (OriginalTrackWorker)\n",
      "Worker 37f78e25-5627-4860-95d4-ec547bb52be6 (OriginalTrackWorker)\n",
      "Worker 37f78e25-5627-4860-95d4-ec547bb52be6 (OriginalTrackWorker)\n",
      "Worker 37f78e25-5627-4860-95d4-ec547bb52be6 (OriginalTrackWorker)\n",
      "Worker 37f78e25-5627-4860-95d4-ec547bb52be6 (OriginalTrackWorker)\n",
      "Worker 37f78e25-5627-4860-95d4-ec547bb52be6 (OriginalTrackWorker)\n",
      "Worker 37f78e25-5627-4860-95d4-ec547bb52be6 (OriginalTrackWorker)\n",
      "Worker 37f78e25-5627-4860-95d4-ec547bb52be6 (OriginalTrackWorker)\n"
     ]
    },
    {
     "data": {
      "application/vnd.jupyter.widget-view+json": {
       "model_id": "eb72a86a8743457380a1e533c8692a9e",
       "version_major": 2,
       "version_minor": 0
      },
      "text/plain": [
       "GilbertElliotPLS_s234:   0%|          | 0/3951360 [00:00<?, ?it/s]"
      ]
     },
     "metadata": {},
     "output_type": "display_data"
    },
    {
     "data": {
      "application/vnd.jupyter.widget-view+json": {
       "model_id": "f1ec4ba7ffd24ab1bed2b177f9fedd84",
       "version_major": 2,
       "version_minor": 0
      },
      "text/plain": [
       "BinomialPLS_s1:   0%|          | 0/3951360 [00:00<?, ?it/s]"
      ]
     },
     "metadata": {},
     "output_type": "display_data"
    },
    {
     "data": {
      "application/vnd.jupyter.widget-view+json": {
       "model_id": "e04af022e7044ebb9ac1ba1b2d979de3",
       "version_major": 2,
       "version_minor": 0
      },
      "text/plain": [
       "LowCostPLC:   0%|          | 0/61740 [00:00<?, ?it/s]"
      ]
     },
     "metadata": {},
     "output_type": "display_data"
    },
    {
     "data": {
      "application/vnd.jupyter.widget-view+json": {
       "model_id": "d945d8772c5144c098401832f768d1e2",
       "version_major": 2,
       "version_minor": 0
      },
      "text/plain": [
       "ZerosPLC:   0%|          | 0/61740 [00:00<?, ?it/s]"
      ]
     },
     "metadata": {},
     "output_type": "display_data"
    },
    {
     "data": {
      "application/vnd.jupyter.widget-view+json": {
       "model_id": "ea09682197ea4ea781753f23c8d7888b",
       "version_major": 2,
       "version_minor": 0
      },
      "text/plain": [
       "LowCostPLC:   0%|          | 0/61740 [00:00<?, ?it/s]"
      ]
     },
     "metadata": {},
     "output_type": "display_data"
    },
    {
     "data": {
      "application/vnd.jupyter.widget-view+json": {
       "model_id": "20d1e4ec455349098bc4d950887144ca",
       "version_major": 2,
       "version_minor": 0
      },
      "text/plain": [
       "ZerosPLC:   0%|          | 0/61740 [00:00<?, ?it/s]"
      ]
     },
     "metadata": {},
     "output_type": "display_data"
    },
    {
     "data": {
      "application/vnd.jupyter.widget-view+json": {
       "model_id": "b53da1decf97486c8d9d3eddc149fa99",
       "version_major": 2,
       "version_minor": 0
      },
      "text/plain": [
       "MSECalculator:   0%|          | 0/7716 [00:00<?, ?it/s]"
      ]
     },
     "metadata": {},
     "output_type": "display_data"
    },
    {
     "data": {
      "application/vnd.jupyter.widget-view+json": {
       "model_id": "58b9b014e7924bbb9966563395b04931",
       "version_major": 2,
       "version_minor": 0
      },
      "text/plain": [
       "MSECalculator:   0%|          | 0/7716 [00:00<?, ?it/s]"
      ]
     },
     "metadata": {},
     "output_type": "display_data"
    },
    {
     "data": {
      "application/vnd.jupyter.widget-view+json": {
       "model_id": "3184644a974040f0b58c06e90ba67005",
       "version_major": 2,
       "version_minor": 0
      },
      "text/plain": [
       "MSECalculator:   0%|          | 0/7716 [00:00<?, ?it/s]"
      ]
     },
     "metadata": {},
     "output_type": "display_data"
    },
    {
     "data": {
      "application/vnd.jupyter.widget-view+json": {
       "model_id": "893ed4582884436184c2cd63645035ff",
       "version_major": 2,
       "version_minor": 0
      },
      "text/plain": [
       "MSECalculator:   0%|          | 0/7716 [00:00<?, ?it/s]"
      ]
     },
     "metadata": {},
     "output_type": "display_data"
    },
    {
     "name": "stdout",
     "output_type": "stream",
     "text": [
      "C:\\Data\\personale\\Università\\2022-2023\\original_tracks\\Blues_Guitar\n"
     ]
    },
    {
     "data": {
      "application/vnd.jupyter.widget-view+json": {
       "model_id": "2b416eefdfcc407f903a12264292127e",
       "version_major": 2,
       "version_minor": 0
      },
      "text/plain": [
       "<plctestbench.worker.OriginalTrackWorker object at 0x0000023757B326A0>:   0%|          | 0/10 [00:00<?, ?it/s]"
      ]
     },
     "metadata": {},
     "output_type": "display_data"
    },
    {
     "name": "stdout",
     "output_type": "stream",
     "text": [
      "Worker 37f78e25-5627-4860-95d4-ec547bb52be6 (OriginalTrackWorker)\n",
      "Worker 37f78e25-5627-4860-95d4-ec547bb52be6 (OriginalTrackWorker)\n",
      "Worker 37f78e25-5627-4860-95d4-ec547bb52be6 (OriginalTrackWorker)\n",
      "Worker 37f78e25-5627-4860-95d4-ec547bb52be6 (OriginalTrackWorker)\n",
      "Worker 37f78e25-5627-4860-95d4-ec547bb52be6 (OriginalTrackWorker)\n",
      "Worker 37f78e25-5627-4860-95d4-ec547bb52be6 (OriginalTrackWorker)\n",
      "Worker 37f78e25-5627-4860-95d4-ec547bb52be6 (OriginalTrackWorker)\n",
      "Worker 37f78e25-5627-4860-95d4-ec547bb52be6 (OriginalTrackWorker)\n",
      "Worker 37f78e25-5627-4860-95d4-ec547bb52be6 (OriginalTrackWorker)\n",
      "Worker 37f78e25-5627-4860-95d4-ec547bb52be6 (OriginalTrackWorker)\n"
     ]
    },
    {
     "data": {
      "application/vnd.jupyter.widget-view+json": {
       "model_id": "ddab9a42ef974206b10d62d1ab4ae652",
       "version_major": 2,
       "version_minor": 0
      },
      "text/plain": [
       "GilbertElliotPLS_s234:   0%|          | 0/3951360 [00:00<?, ?it/s]"
      ]
     },
     "metadata": {},
     "output_type": "display_data"
    },
    {
     "data": {
      "application/vnd.jupyter.widget-view+json": {
       "model_id": "d2dca17436d64f0bafff5efc34a0a7bb",
       "version_major": 2,
       "version_minor": 0
      },
      "text/plain": [
       "BinomialPLS_s1:   0%|          | 0/3951360 [00:00<?, ?it/s]"
      ]
     },
     "metadata": {},
     "output_type": "display_data"
    },
    {
     "data": {
      "application/vnd.jupyter.widget-view+json": {
       "model_id": "ffc425af44374665adf5ca2e7b4c8a36",
       "version_major": 2,
       "version_minor": 0
      },
      "text/plain": [
       "LowCostPLC:   0%|          | 0/61740 [00:00<?, ?it/s]"
      ]
     },
     "metadata": {},
     "output_type": "display_data"
    },
    {
     "data": {
      "application/vnd.jupyter.widget-view+json": {
       "model_id": "9e7bc50c52794505bb0d5ddddb9956af",
       "version_major": 2,
       "version_minor": 0
      },
      "text/plain": [
       "ZerosPLC:   0%|          | 0/61740 [00:00<?, ?it/s]"
      ]
     },
     "metadata": {},
     "output_type": "display_data"
    },
    {
     "data": {
      "application/vnd.jupyter.widget-view+json": {
       "model_id": "1e921389806c4994adf5036437d2c1cb",
       "version_major": 2,
       "version_minor": 0
      },
      "text/plain": [
       "LowCostPLC:   0%|          | 0/61740 [00:00<?, ?it/s]"
      ]
     },
     "metadata": {},
     "output_type": "display_data"
    },
    {
     "data": {
      "application/vnd.jupyter.widget-view+json": {
       "model_id": "ad5adb1139a742a6b495885486cb4e55",
       "version_major": 2,
       "version_minor": 0
      },
      "text/plain": [
       "ZerosPLC:   0%|          | 0/61740 [00:00<?, ?it/s]"
      ]
     },
     "metadata": {},
     "output_type": "display_data"
    },
    {
     "data": {
      "application/vnd.jupyter.widget-view+json": {
       "model_id": "de25322357394137a1b8b717cfc779b4",
       "version_major": 2,
       "version_minor": 0
      },
      "text/plain": [
       "MSECalculator:   0%|          | 0/7716 [00:00<?, ?it/s]"
      ]
     },
     "metadata": {},
     "output_type": "display_data"
    },
    {
     "data": {
      "application/vnd.jupyter.widget-view+json": {
       "model_id": "05c5b9fa3a424ac98d032dee476b09ea",
       "version_major": 2,
       "version_minor": 0
      },
      "text/plain": [
       "MSECalculator:   0%|          | 0/7716 [00:00<?, ?it/s]"
      ]
     },
     "metadata": {},
     "output_type": "display_data"
    },
    {
     "data": {
      "application/vnd.jupyter.widget-view+json": {
       "model_id": "22b7eb2bd7c14f74a721c0bb0d1a8662",
       "version_major": 2,
       "version_minor": 0
      },
      "text/plain": [
       "MSECalculator:   0%|          | 0/7716 [00:00<?, ?it/s]"
      ]
     },
     "metadata": {},
     "output_type": "display_data"
    },
    {
     "data": {
      "application/vnd.jupyter.widget-view+json": {
       "model_id": "79212ca0fbeb4b05883cb0fce2075ab5",
       "version_major": 2,
       "version_minor": 0
      },
      "text/plain": [
       "MSECalculator:   0%|          | 0/7716 [00:00<?, ?it/s]"
      ]
     },
     "metadata": {},
     "output_type": "display_data"
    },
    {
     "name": "stdout",
     "output_type": "stream",
     "text": [
      "C:\\Data\\personale\\Università\\2022-2023\\original_tracks\\Musica_e-nug3sH6WsnY-256k-1654312580456\n"
     ]
    },
    {
     "data": {
      "application/vnd.jupyter.widget-view+json": {
       "model_id": "19f47d173e9b43819e7532a1a832c52c",
       "version_major": 2,
       "version_minor": 0
      },
      "text/plain": [
       "<plctestbench.worker.OriginalTrackWorker object at 0x0000023757B3A0B8>:   0%|          | 0/10 [00:00<?, ?it/s]"
      ]
     },
     "metadata": {},
     "output_type": "display_data"
    },
    {
     "name": "stdout",
     "output_type": "stream",
     "text": [
      "Worker 37f78e25-5627-4860-95d4-ec547bb52be6 (OriginalTrackWorker)\n",
      "Worker 37f78e25-5627-4860-95d4-ec547bb52be6 (OriginalTrackWorker)\n",
      "Worker 37f78e25-5627-4860-95d4-ec547bb52be6 (OriginalTrackWorker)\n",
      "Worker 37f78e25-5627-4860-95d4-ec547bb52be6 (OriginalTrackWorker)\n",
      "Worker 37f78e25-5627-4860-95d4-ec547bb52be6 (OriginalTrackWorker)\n",
      "Worker 37f78e25-5627-4860-95d4-ec547bb52be6 (OriginalTrackWorker)\n",
      "Worker 37f78e25-5627-4860-95d4-ec547bb52be6 (OriginalTrackWorker)\n",
      "Worker 37f78e25-5627-4860-95d4-ec547bb52be6 (OriginalTrackWorker)\n",
      "Worker 37f78e25-5627-4860-95d4-ec547bb52be6 (OriginalTrackWorker)\n",
      "Worker 37f78e25-5627-4860-95d4-ec547bb52be6 (OriginalTrackWorker)\n"
     ]
    },
    {
     "data": {
      "application/vnd.jupyter.widget-view+json": {
       "model_id": "90f8323857624f45ada275abfcfae4d9",
       "version_major": 2,
       "version_minor": 0
      },
      "text/plain": [
       "GilbertElliotPLS_s234:   0%|          | 0/31655992 [00:00<?, ?it/s]"
      ]
     },
     "metadata": {},
     "output_type": "display_data"
    },
    {
     "data": {
      "application/vnd.jupyter.widget-view+json": {
       "model_id": "b158f4a337104ca2a2e7a46cfe29fed9",
       "version_major": 2,
       "version_minor": 0
      },
      "text/plain": [
       "BinomialPLS_s1:   0%|          | 0/31655992 [00:00<?, ?it/s]"
      ]
     },
     "metadata": {},
     "output_type": "display_data"
    },
    {
     "data": {
      "application/vnd.jupyter.widget-view+json": {
       "model_id": "442dcbbd56f74f85ac4094a1571f380e",
       "version_major": 2,
       "version_minor": 0
      },
      "text/plain": [
       "LowCostPLC:   0%|          | 0/494625 [00:00<?, ?it/s]"
      ]
     },
     "metadata": {},
     "output_type": "display_data"
    },
    {
     "data": {
      "application/vnd.jupyter.widget-view+json": {
       "model_id": "3ee0fe6f01e2427cb69b8469df6efffe",
       "version_major": 2,
       "version_minor": 0
      },
      "text/plain": [
       "ZerosPLC:   0%|          | 0/494625 [00:00<?, ?it/s]"
      ]
     },
     "metadata": {},
     "output_type": "display_data"
    },
    {
     "data": {
      "application/vnd.jupyter.widget-view+json": {
       "model_id": "b9ee0f01137949d184669e00d57b6d58",
       "version_major": 2,
       "version_minor": 0
      },
      "text/plain": [
       "LowCostPLC:   0%|          | 0/494625 [00:00<?, ?it/s]"
      ]
     },
     "metadata": {},
     "output_type": "display_data"
    },
    {
     "data": {
      "application/vnd.jupyter.widget-view+json": {
       "model_id": "4141004dbf9b453ea4b60912f89e6149",
       "version_major": 2,
       "version_minor": 0
      },
      "text/plain": [
       "ZerosPLC:   0%|          | 0/494625 [00:00<?, ?it/s]"
      ]
     },
     "metadata": {},
     "output_type": "display_data"
    },
    {
     "data": {
      "application/vnd.jupyter.widget-view+json": {
       "model_id": "d16ddd15c200414ba2f3fe27b2f04356",
       "version_major": 2,
       "version_minor": 0
      },
      "text/plain": [
       "MSECalculator:   0%|          | 0/61827 [00:00<?, ?it/s]"
      ]
     },
     "metadata": {},
     "output_type": "display_data"
    },
    {
     "data": {
      "application/vnd.jupyter.widget-view+json": {
       "model_id": "05201f41def54bf89e1b9681d94c0301",
       "version_major": 2,
       "version_minor": 0
      },
      "text/plain": [
       "MSECalculator:   0%|          | 0/61827 [00:00<?, ?it/s]"
      ]
     },
     "metadata": {},
     "output_type": "display_data"
    },
    {
     "data": {
      "application/vnd.jupyter.widget-view+json": {
       "model_id": "da4a79730b5946e3a470bcfb3f2caa24",
       "version_major": 2,
       "version_minor": 0
      },
      "text/plain": [
       "MSECalculator:   0%|          | 0/61827 [00:00<?, ?it/s]"
      ]
     },
     "metadata": {},
     "output_type": "display_data"
    },
    {
     "data": {
      "application/vnd.jupyter.widget-view+json": {
       "model_id": "fd94315982a0491eab8b228566b69ff5",
       "version_major": 2,
       "version_minor": 0
      },
      "text/plain": [
       "MSECalculator:   0%|          | 0/61827 [00:00<?, ?it/s]"
      ]
     },
     "metadata": {},
     "output_type": "display_data"
    }
   ],
   "source": [
    "from plctestbench.plc_testbench import PLCTestbench\n",
    "from plctestbench.loss_simulator import BinomialPLS, GilbertElliotPLS\n",
    "from plctestbench.plc_algorithm import ZerosPLC, LastPacketPLC, LowCostPLC, ExternalPLC, DeepLearningPLC\n",
    "from plctestbench.output_analyser import MSECalculator, PEAQCalculator, SpectralEnergyCalculator\n",
    "\n",
    "packet_loss_simulators = [(GilbertElliotPLS, GilbertElliotPLSSettings(seed=234, p=0.001, r=0.05, h=0.5, k=0.99999900)),\n",
    "                          (BinomialPLS, BinomialPLSSettings(seed=1, per=0.005))]\n",
    "ecc_algorithms = [(LowCostPLC, LowCostPLCSettings()),\n",
    "                  (ZerosPLC, ZeroPLCSettings())]\n",
    "output_analysers = [(MSECalculator, MSECalculatorSettings()),\n",
    "                    (PEAQCalculator, PEAQCalculatorSettings(peaq_mode=\"basic\"))]\n",
    "\n",
    "testbench = PLCTestbench(packet_loss_simulators, ecc_algorithms, output_analysers, global_settings, data_manager, path_manager)\n",
    "\n",
    "testbench.run()"
   ]
  },
  {
   "cell_type": "code",
   "execution_count": 3,
   "metadata": {},
   "outputs": [
    {
     "ename": "ValueError",
     "evalue": "x and y must have same first dimension, but have shapes (502478,) and (502477,)",
     "output_type": "error",
     "traceback": [
      "\u001b[1;31m---------------------------------------------------------------------------\u001b[0m",
      "\u001b[1;31mValueError\u001b[0m                                Traceback (most recent call last)",
      "\u001b[1;32m~\\AppData\\Local\\Temp\\ipykernel_1684\\3410544521.py\u001b[0m in \u001b[0;36m<module>\u001b[1;34m\u001b[0m\n\u001b[1;32m----> 1\u001b[1;33m \u001b[0mtestbench\u001b[0m\u001b[1;33m.\u001b[0m\u001b[0mplot\u001b[0m\u001b[1;33m(\u001b[0m\u001b[0mshow\u001b[0m\u001b[1;33m=\u001b[0m\u001b[1;32mFalse\u001b[0m\u001b[1;33m,\u001b[0m \u001b[0mto_file\u001b[0m\u001b[1;33m=\u001b[0m\u001b[1;32mTrue\u001b[0m\u001b[1;33m,\u001b[0m \u001b[0mgroup\u001b[0m\u001b[1;33m=\u001b[0m\u001b[1;32mFalse\u001b[0m\u001b[1;33m,\u001b[0m \u001b[0moriginal_tracks\u001b[0m\u001b[1;33m=\u001b[0m\u001b[1;32mTrue\u001b[0m\u001b[1;33m,\u001b[0m \u001b[0mlost_samples_masks\u001b[0m\u001b[1;33m=\u001b[0m\u001b[1;32mTrue\u001b[0m\u001b[1;33m,\u001b[0m \u001b[0moutput_analyses\u001b[0m\u001b[1;33m=\u001b[0m\u001b[1;32mTrue\u001b[0m\u001b[1;33m,\u001b[0m \u001b[0mpeaq_summary\u001b[0m\u001b[1;33m=\u001b[0m\u001b[1;32mFalse\u001b[0m\u001b[1;33m)\u001b[0m\u001b[1;33m\u001b[0m\u001b[1;33m\u001b[0m\u001b[0m\n\u001b[0m",
      "\u001b[1;32mc:\\Data\\plc-testbench-ui\\plc-testbench\\plctestbench\\plc_testbench.py\u001b[0m in \u001b[0;36mplot\u001b[1;34m(self, show, to_file, original_tracks, lost_samples_masks, reconstructed_tracks, output_analyses, group, peaq_summary)\u001b[0m\n\u001b[0;32m     66\u001b[0m             \u001b[0moriginal_track_nodes\u001b[0m \u001b[1;33m=\u001b[0m \u001b[0mself\u001b[0m\u001b[1;33m.\u001b[0m\u001b[0mdata_manager\u001b[0m\u001b[1;33m.\u001b[0m\u001b[0mget_nodes_by_depth\u001b[0m\u001b[1;33m(\u001b[0m\u001b[1;36m0\u001b[0m\u001b[1;33m)\u001b[0m\u001b[1;33m\u001b[0m\u001b[1;33m\u001b[0m\u001b[0m\n\u001b[0;32m     67\u001b[0m             \u001b[1;32mfor\u001b[0m \u001b[0moriginal_audio_node\u001b[0m \u001b[1;32min\u001b[0m \u001b[0moriginal_track_nodes\u001b[0m\u001b[1;33m:\u001b[0m\u001b[1;33m\u001b[0m\u001b[1;33m\u001b[0m\u001b[0m\n\u001b[1;32m---> 68\u001b[1;33m                 \u001b[0mplot_manager\u001b[0m\u001b[1;33m.\u001b[0m\u001b[0mplot_audio_track\u001b[0m\u001b[1;33m(\u001b[0m\u001b[0moriginal_audio_node\u001b[0m\u001b[1;33m,\u001b[0m \u001b[0mto_file\u001b[0m\u001b[1;33m)\u001b[0m\u001b[1;33m\u001b[0m\u001b[1;33m\u001b[0m\u001b[0m\n\u001b[0m\u001b[0;32m     69\u001b[0m \u001b[1;33m\u001b[0m\u001b[0m\n\u001b[0;32m     70\u001b[0m         \u001b[1;32mif\u001b[0m \u001b[0mlost_samples_masks\u001b[0m\u001b[1;33m:\u001b[0m\u001b[1;33m\u001b[0m\u001b[1;33m\u001b[0m\u001b[0m\n",
      "\u001b[1;32mc:\\Data\\plc-testbench-ui\\plc-testbench\\plctestbench\\plot_manager.py\u001b[0m in \u001b[0;36mplot_audio_track\u001b[1;34m(self, node, to_file)\u001b[0m\n\u001b[0;32m     51\u001b[0m                 \u001b[0max\u001b[0m \u001b[1;33m=\u001b[0m \u001b[1;33m[\u001b[0m\u001b[0max\u001b[0m\u001b[1;33m]\u001b[0m\u001b[1;33m\u001b[0m\u001b[1;33m\u001b[0m\u001b[0m\n\u001b[0;32m     52\u001b[0m             \u001b[1;31m#ax = fig.add_axes([0, 0, 1, 1])\u001b[0m\u001b[1;33m\u001b[0m\u001b[1;33m\u001b[0m\u001b[1;33m\u001b[0m\u001b[0m\n\u001b[1;32m---> 53\u001b[1;33m             \u001b[0max\u001b[0m\u001b[1;33m[\u001b[0m\u001b[0mn\u001b[0m\u001b[1;33m]\u001b[0m\u001b[1;33m.\u001b[0m\u001b[0mplot\u001b[0m\u001b[1;33m(\u001b[0m\u001b[0mx\u001b[0m\u001b[1;33m,\u001b[0m \u001b[0maudio_channel_data\u001b[0m\u001b[1;33m,\u001b[0m \u001b[0mlinewidth\u001b[0m\u001b[1;33m=\u001b[0m\u001b[0mself\u001b[0m\u001b[1;33m.\u001b[0m\u001b[0mlinewidth\u001b[0m\u001b[1;33m)\u001b[0m\u001b[1;33m\u001b[0m\u001b[1;33m\u001b[0m\u001b[0m\n\u001b[0m\u001b[0;32m     54\u001b[0m             \u001b[0max\u001b[0m\u001b[1;33m[\u001b[0m\u001b[0mn\u001b[0m\u001b[1;33m]\u001b[0m\u001b[1;33m.\u001b[0m\u001b[0mset_title\u001b[0m\u001b[1;33m(\u001b[0m\u001b[1;34m\"Channel \"\u001b[0m \u001b[1;33m+\u001b[0m \u001b[0mstr\u001b[0m\u001b[1;33m(\u001b[0m\u001b[0mn\u001b[0m \u001b[1;33m+\u001b[0m \u001b[1;36m1\u001b[0m\u001b[1;33m)\u001b[0m \u001b[1;33m+\u001b[0m \u001b[1;34m\"/\"\u001b[0m \u001b[1;33m+\u001b[0m \u001b[0mstr\u001b[0m\u001b[1;33m(\u001b[0m\u001b[0mn_channels\u001b[0m\u001b[1;33m)\u001b[0m\u001b[1;33m)\u001b[0m\u001b[1;33m\u001b[0m\u001b[1;33m\u001b[0m\u001b[0m\n\u001b[0;32m     55\u001b[0m             \u001b[0max\u001b[0m\u001b[1;33m[\u001b[0m\u001b[0mn\u001b[0m\u001b[1;33m]\u001b[0m\u001b[1;33m.\u001b[0m\u001b[0mset_xlabel\u001b[0m\u001b[1;33m(\u001b[0m\u001b[1;34m\"Time [s]\"\u001b[0m\u001b[1;33m)\u001b[0m\u001b[1;33m\u001b[0m\u001b[1;33m\u001b[0m\u001b[0m\n",
      "\u001b[1;32mc:\\Users\\dalloste\\AppData\\Local\\Programs\\Python\\Python37\\lib\\site-packages\\matplotlib\\axes\\_axes.py\u001b[0m in \u001b[0;36mplot\u001b[1;34m(self, scalex, scaley, data, *args, **kwargs)\u001b[0m\n\u001b[0;32m   1633\u001b[0m         \"\"\"\n\u001b[0;32m   1634\u001b[0m         \u001b[0mkwargs\u001b[0m \u001b[1;33m=\u001b[0m \u001b[0mcbook\u001b[0m\u001b[1;33m.\u001b[0m\u001b[0mnormalize_kwargs\u001b[0m\u001b[1;33m(\u001b[0m\u001b[0mkwargs\u001b[0m\u001b[1;33m,\u001b[0m \u001b[0mmlines\u001b[0m\u001b[1;33m.\u001b[0m\u001b[0mLine2D\u001b[0m\u001b[1;33m)\u001b[0m\u001b[1;33m\u001b[0m\u001b[1;33m\u001b[0m\u001b[0m\n\u001b[1;32m-> 1635\u001b[1;33m         \u001b[0mlines\u001b[0m \u001b[1;33m=\u001b[0m \u001b[1;33m[\u001b[0m\u001b[1;33m*\u001b[0m\u001b[0mself\u001b[0m\u001b[1;33m.\u001b[0m\u001b[0m_get_lines\u001b[0m\u001b[1;33m(\u001b[0m\u001b[1;33m*\u001b[0m\u001b[0margs\u001b[0m\u001b[1;33m,\u001b[0m \u001b[0mdata\u001b[0m\u001b[1;33m=\u001b[0m\u001b[0mdata\u001b[0m\u001b[1;33m,\u001b[0m \u001b[1;33m**\u001b[0m\u001b[0mkwargs\u001b[0m\u001b[1;33m)\u001b[0m\u001b[1;33m]\u001b[0m\u001b[1;33m\u001b[0m\u001b[1;33m\u001b[0m\u001b[0m\n\u001b[0m\u001b[0;32m   1636\u001b[0m         \u001b[1;32mfor\u001b[0m \u001b[0mline\u001b[0m \u001b[1;32min\u001b[0m \u001b[0mlines\u001b[0m\u001b[1;33m:\u001b[0m\u001b[1;33m\u001b[0m\u001b[1;33m\u001b[0m\u001b[0m\n\u001b[0;32m   1637\u001b[0m             \u001b[0mself\u001b[0m\u001b[1;33m.\u001b[0m\u001b[0madd_line\u001b[0m\u001b[1;33m(\u001b[0m\u001b[0mline\u001b[0m\u001b[1;33m)\u001b[0m\u001b[1;33m\u001b[0m\u001b[1;33m\u001b[0m\u001b[0m\n",
      "\u001b[1;32mc:\\Users\\dalloste\\AppData\\Local\\Programs\\Python\\Python37\\lib\\site-packages\\matplotlib\\axes\\_base.py\u001b[0m in \u001b[0;36m__call__\u001b[1;34m(self, data, *args, **kwargs)\u001b[0m\n\u001b[0;32m    310\u001b[0m                 \u001b[0mthis\u001b[0m \u001b[1;33m+=\u001b[0m \u001b[0margs\u001b[0m\u001b[1;33m[\u001b[0m\u001b[1;36m0\u001b[0m\u001b[1;33m]\u001b[0m\u001b[1;33m,\u001b[0m\u001b[1;33m\u001b[0m\u001b[1;33m\u001b[0m\u001b[0m\n\u001b[0;32m    311\u001b[0m                 \u001b[0margs\u001b[0m \u001b[1;33m=\u001b[0m \u001b[0margs\u001b[0m\u001b[1;33m[\u001b[0m\u001b[1;36m1\u001b[0m\u001b[1;33m:\u001b[0m\u001b[1;33m]\u001b[0m\u001b[1;33m\u001b[0m\u001b[1;33m\u001b[0m\u001b[0m\n\u001b[1;32m--> 312\u001b[1;33m             \u001b[1;32myield\u001b[0m \u001b[1;32mfrom\u001b[0m \u001b[0mself\u001b[0m\u001b[1;33m.\u001b[0m\u001b[0m_plot_args\u001b[0m\u001b[1;33m(\u001b[0m\u001b[0mthis\u001b[0m\u001b[1;33m,\u001b[0m \u001b[0mkwargs\u001b[0m\u001b[1;33m)\u001b[0m\u001b[1;33m\u001b[0m\u001b[1;33m\u001b[0m\u001b[0m\n\u001b[0m\u001b[0;32m    313\u001b[0m \u001b[1;33m\u001b[0m\u001b[0m\n\u001b[0;32m    314\u001b[0m     \u001b[1;32mdef\u001b[0m \u001b[0mget_next_color\u001b[0m\u001b[1;33m(\u001b[0m\u001b[0mself\u001b[0m\u001b[1;33m)\u001b[0m\u001b[1;33m:\u001b[0m\u001b[1;33m\u001b[0m\u001b[1;33m\u001b[0m\u001b[0m\n",
      "\u001b[1;32mc:\\Users\\dalloste\\AppData\\Local\\Programs\\Python\\Python37\\lib\\site-packages\\matplotlib\\axes\\_base.py\u001b[0m in \u001b[0;36m_plot_args\u001b[1;34m(self, tup, kwargs, return_kwargs)\u001b[0m\n\u001b[0;32m    496\u001b[0m \u001b[1;33m\u001b[0m\u001b[0m\n\u001b[0;32m    497\u001b[0m         \u001b[1;32mif\u001b[0m \u001b[0mx\u001b[0m\u001b[1;33m.\u001b[0m\u001b[0mshape\u001b[0m\u001b[1;33m[\u001b[0m\u001b[1;36m0\u001b[0m\u001b[1;33m]\u001b[0m \u001b[1;33m!=\u001b[0m \u001b[0my\u001b[0m\u001b[1;33m.\u001b[0m\u001b[0mshape\u001b[0m\u001b[1;33m[\u001b[0m\u001b[1;36m0\u001b[0m\u001b[1;33m]\u001b[0m\u001b[1;33m:\u001b[0m\u001b[1;33m\u001b[0m\u001b[1;33m\u001b[0m\u001b[0m\n\u001b[1;32m--> 498\u001b[1;33m             raise ValueError(f\"x and y must have same first dimension, but \"\n\u001b[0m\u001b[0;32m    499\u001b[0m                              f\"have shapes {x.shape} and {y.shape}\")\n\u001b[0;32m    500\u001b[0m         \u001b[1;32mif\u001b[0m \u001b[0mx\u001b[0m\u001b[1;33m.\u001b[0m\u001b[0mndim\u001b[0m \u001b[1;33m>\u001b[0m \u001b[1;36m2\u001b[0m \u001b[1;32mor\u001b[0m \u001b[0my\u001b[0m\u001b[1;33m.\u001b[0m\u001b[0mndim\u001b[0m \u001b[1;33m>\u001b[0m \u001b[1;36m2\u001b[0m\u001b[1;33m:\u001b[0m\u001b[1;33m\u001b[0m\u001b[1;33m\u001b[0m\u001b[0m\n",
      "\u001b[1;31mValueError\u001b[0m: x and y must have same first dimension, but have shapes (502478,) and (502477,)"
     ]
    },
    {
     "data": {
      "image/png": "[encoded data removed]",
      "text/plain": [
       "<Figure size 3600x1800 with 2 Axes>"
      ]
     },
     "metadata": {},
     "output_type": "display_data"
    }
   ],
   "source": [
    "testbench.plot(show=False, to_file=True, group=False, original_tracks=True, lost_samples_masks=True, output_analyses=True, peaq_summary=False)"
   ]
  }
 ],
 "metadata": {
  "kernelspec": {
   "display_name": "Python 3",
   "language": "python",
   "name": "python3"
  },
  "language_info": {
   "codemirror_mode": {
    "name": "ipython",
    "version": 3
   },
   "file_extension": ".py",
   "mimetype": "text/x-python",
   "name": "python",
   "nbconvert_exporter": "python",
   "pygments_lexer": "ipython3",
   "version": "3.7.3"
  },
  "vscode": {
   "interpreter": {
    "hash": "82e27007defb49f2aa3db072b86a7f40940285520aa06c2142510d3794c99753"
   }
  }
 },
 "nbformat": 4,
 "nbformat_minor": 4
}

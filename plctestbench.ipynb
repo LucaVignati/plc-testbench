{
 "cells": [
  {
   "attachments": {},
   "cell_type": "markdown",
   "metadata": {},
   "source": [
    "# PLCTestbench"
   ]
  },
  {
   "cell_type": "code",
   "execution_count": null,
   "metadata": {
    "scrolled": false,
    "tags": [
     "outputPrepend",
     "outputPrepend"
    ]
   },
   "outputs": [],
   "source": [
    "from plctestbench.settings import *\n",
    "from plctestbench.plc_testbench import PLCTestbench\n",
    "from plctestbench.loss_simulator import BinomialPLS, GilbertElliotPLS\n",
    "from plctestbench.plc_algorithm import ZerosPLC, LastPacketPLC, LowCostPLC, ExternalPLC, DeepLearningPLC\n",
    "from plctestbench.output_analyser import MSECalculator, PEAQCalculator, SpectralEnergyCalculator\n",
    "\n",
    "testbench_settings = {\n",
    "    'root_folder': '../original_tracks',\n",
    "    'db_ip': '192.168.122.1',\n",
    "    'db_username': 'myUserAdmin'\n",
    "}\n",
    "user = {\n",
    "    'email': 'luca.vignati@vignati.net',\n",
    "    'first_name': 'Luca',\n",
    "    'last_name': 'Vignati',\n",
    "    'locale': 'it_IT',\n",
    "    'image_link': ''\n",
    "}\n",
    "\n",
    "packet_loss_simulators = [(GilbertElliotPLS, GilbertElliotPLSSettings(seed=234, p=0.001, r=0.05, h=0.5, k=0.99999900)),\n",
    "                          (BinomialPLS, BinomialPLSSettings(seed=1, per=0.005))]\n",
    "ecc_algorithms = [(LowCostPLC, LowCostPLCSettings()),\n",
    "                  (ZerosPLC, ZerosPLCSettings())]\n",
    "output_analysers = [(MSECalculator, MSECalculatorSettings()),\n",
    "                    (PEAQCalculator, PEAQCalculatorSettings(peaq_mode=\"basic\"))]\n",
    "\n",
    "testbench = PLCTestbench(packet_loss_simulators, ecc_algorithms, output_analysers, testbench_settings, user)"
   ]
  },
  {
   "cell_type": "code",
   "execution_count": null,
   "metadata": {},
   "outputs": [],
   "source": [
    "testbench.run()"
   ]
  },
  {
   "cell_type": "code",
   "execution_count": null,
   "metadata": {},
   "outputs": [],
   "source": [
    "%matplotlib inline\n",
    "testbench.plot(show=False, to_file=True, group=False, original_tracks=True, lost_samples_masks=True, output_analyses=True, peaq_summary=False)"
   ]
  }
 ],
 "metadata": {
  "kernelspec": {
   "display_name": ".vanilla_venv",
   "language": "python",
   "name": "python3"
  },
  "language_info": {
   "codemirror_mode": {
    "name": "ipython",
    "version": 3
   },
   "file_extension": ".py",
   "mimetype": "text/x-python",
   "name": "python",
   "nbconvert_exporter": "python",
   "pygments_lexer": "ipython3",
   "version": "3.10.8"
  },
  "vscode": {
   "interpreter": {
    "hash": "2cc8ff84be1dff75fd8d0f329b6cb7fa2d83fc2b8b0b45b97b39a5625e8c2b22"
   }
  }
 },
 "nbformat": 4,
 "nbformat_minor": 4
}

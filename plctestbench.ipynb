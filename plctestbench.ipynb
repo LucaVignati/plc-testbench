{
 "cells": [
  {
   "attachments": {},
   "cell_type": "markdown",
   "metadata": {},
   "source": [
    "# PLCTestbench"
   ]
  },
  {
   "cell_type": "code",
   "execution_count": null,
   "metadata": {
    "scrolled": false,
    "tags": [
     "outputPrepend",
     "outputPrepend"
    ]
   },
   "outputs": [],
   "source": [
    "from plctestbench.settings import *\n",
    "from plctestbench.plc_testbench import PLCTestbench\n",
    "from plctestbench.loss_simulator import BinomialPLS, GilbertElliotPLS\n",
    "from plctestbench.plc_algorithm import AdvancedPLC, ZerosPLC, LastPacketPLC, LowCostPLC, BurgPLC, ExternalPLC\n",
    "from plctestbench.output_analyser import MSECalculator, MAECalculator, PEAQCalculator\n",
    "\n",
    "from plctestbench.worker import OriginalAudio\n",
    "\n",
    "testbench_settings = {\n",
    "    'root_folder': 'C:\\\\Data\\\\personale\\\\Università\\\\2022-2023\\\\original_tracks',\n",
    "    'db_ip': '127.0.0.1',\n",
    "    'db_username': 'root',\n",
    "    'db_password': 'Marmolada3343',\n",
    "}\n",
    "\n",
    "original_audio_tracks = [(OriginalAudio, OriginalAudioSettings('Blues_Guitar.wav')),\n",
    "                         (OriginalAudio, OriginalAudioSettings('Blues_Bass.wav'))]\n",
    "\n",
    "packet_loss_simulators = [(GilbertElliotPLS, GilbertElliotPLSSettings()),\n",
    "                          (BinomialPLS, BinomialPLSSettings())]\n",
    "\n",
    "crossfade_settings = [QuadraticCrossfadeSettings(length=50),\n",
    "                               QuadraticCrossfadeSettings(length=5),\n",
    "                               QuadraticCrossfadeSettings(length=5)]\n",
    "\n",
    "crossfade_frequencies = [200, 2000]\n",
    "\n",
    "band_settings = {'mid':\n",
    "                 [BurgPLCSettings(fade_in=QuadraticCrossfadeSettings(length=1), crossfade=QuadraticCrossfadeSettings(length=50), order=1024),\n",
    "                 BurgPLCSettings(fade_in=QuadraticCrossfadeSettings(length=1), crossfade=QuadraticCrossfadeSettings(length=5), order=512),\n",
    "                 BurgPLCSettings(fade_in=QuadraticCrossfadeSettings(length=1), crossfade=QuadraticCrossfadeSettings(length=1), order=256)],\n",
    "                 'side':\n",
    "                 [BurgPLCSettings(fade_in=QuadraticCrossfadeSettings(length=1), crossfade=[QuadraticCrossfadeSettings(length=50)], order=1024),\n",
    "                 BurgPLCSettings(fade_in=QuadraticCrossfadeSettings(length=1), crossfade=[QuadraticCrossfadeSettings(length=5)], order=512)]}\n",
    "\n",
    "advanced_plc_frequencies = {'mid': [200, 2000], 'side': [1000]}\n",
    "advenced_plc_settings = AdvancedPLCSettings(band_settings, frequencies = advanced_plc_frequencies, channel_link=False, stereo_image_processing = StereoImageType.mid_side)\n",
    "advenced_plc_settings_clone = advenced_plc_settings.set_stereo_image_processing(StereoImageType.dual_mono)\n",
    "advenced_plc_settings_clone = advenced_plc_settings_clone.set_channel_link(True)\n",
    "advenced_plc_settings_clone = advenced_plc_settings_clone.set_frequencies({'linked': [200, 2000, 3000]})\n",
    "advenced_plc_settings_clone = advenced_plc_settings_clone.set_channel_link(False)\n",
    "advenced_plc_settings_clone = advenced_plc_settings_clone.set_frequencies(advanced_plc_frequencies)\n",
    "advenced_plc_settings_clone = advenced_plc_settings_clone.set_stereo_image_processing(StereoImageType.mid_side)\n",
    "assert advenced_plc_settings.__hash__() == advenced_plc_settings_clone.__hash__(), \"Configurations are different\"\n",
    "\n",
    "\n",
    "plc_algorithms = [(AdvancedPLC, advenced_plc_settings),\n",
    "                  (ZerosPLC, ZerosPLCSettings(crossfade_frequencies=crossfade_frequencies, fade_in=QuadraticCrossfadeSettings(length=10), crossfade=crossfade_settings)),\n",
    "                  (LastPacketPLC, LastPacketPLCSettings(fade_in=QuadraticCrossfadeSettings(length=1), crossfade=QuadraticCrossfadeSettings(length=10), mirror_x=True, mirror_y=True, clip_strategy=ClipStrategy.clip)),\n",
    "                  (LowCostPLC, LowCostPLCSettings(fade_in=QuadraticCrossfadeSettings(length=1), crossfade=QuadraticCrossfadeSettings(length=10))),\n",
    "                  (BurgPLC, BurgPLCSettings(fade_in=QuadraticCrossfadeSettings(length=1), crossfade=QuadraticCrossfadeSettings(length=10)))]\n",
    "\n",
    "metrics = [(MSECalculator, MSECalculatorSettings()),\n",
    "           (MAECalculator, MAECalculatorSettings())\n",
    "           #,(PEAQCalculator, PEAQCalculatorSettings())\n",
    "           ]\n",
    "\n",
    "testbench = PLCTestbench(original_audio_tracks, packet_loss_simulators, plc_algorithms, metrics, testbench_settings)"
   ]
  },
  {
   "cell_type": "code",
   "execution_count": null,
   "metadata": {},
   "outputs": [],
   "source": [
    "testbench.run()"
   ]
  },
  {
   "cell_type": "code",
   "execution_count": null,
   "metadata": {},
   "outputs": [],
   "source": [
    "%matplotlib inline\n",
    "testbench.plot(to_file=True, original_tracks=True, lost_samples_masks=True, output_analyses=True)"
   ]
  }
 ],
 "metadata": {
  "kernelspec": {
   "display_name": "env",
   "language": "python",
   "name": "python3"
  },
  "language_info": {
   "codemirror_mode": {
    "name": "ipython",
    "version": 3
   },
   "file_extension": ".py",
   "mimetype": "text/x-python",
   "name": "python",
   "nbconvert_exporter": "python",
   "pygments_lexer": "ipython3",
   "version": "3.7.3"
  },
  "vscode": {
   "interpreter": {
    "hash": "2cc8ff84be1dff75fd8d0f329b6cb7fa2d83fc2b8b0b45b97b39a5625e8c2b22"
   }
  }
 },
 "nbformat": 4,
 "nbformat_minor": 4
}

{
 "cells": [
  {
   "attachments": {},
   "cell_type": "markdown",
   "metadata": {},
   "source": [
    "# PLCTestbench"
   ]
  },
  {
   "cell_type": "code",
   "execution_count": 1,
   "metadata": {
    "scrolled": false,
    "tags": [
     "outputPrepend",
     "outputPrepend"
    ]
   },
   "outputs": [],
   "source": [
    "from plctestbench.settings import *\n",
    "from plctestbench.plc_testbench import PLCTestbench\n",
    "from plctestbench.loss_simulator import BinomialPLS, GilbertElliotPLS\n",
    "from plctestbench.plc_algorithm import AdvancedPLC, ZerosPLC, LastPacketPLC, LowCostPLC, BurgPLC, ExternalPLC\n",
    "from plctestbench.output_analyser import MSECalculator, MAECalculator, PEAQCalculator\n",
    "\n",
    "from plctestbench.worker import OriginalAudio\n",
    "\n",
    "testbench_settings = {\n",
    "    'root_folder': '../original_tracks',\n",
    "    'db_ip': '127.0.0.1',\n",
    "    'db_username': 'myUserAdmin',\n",
    "    'db_password': 'admin',\n",
    "}\n",
    "\n",
    "original_audio_tracks = [(OriginalAudio, OriginalAudioSettings('Blues_Guitar.wav')),\n",
    "                         (OriginalAudio, OriginalAudioSettings('Blues_Bass.wav'))]\n",
    "\n",
    "packet_loss_simulators = [(GilbertElliotPLS, GilbertElliotPLSSettings()),\n",
    "                          (BinomialPLS, BinomialPLSSettings())]\n",
    "\n",
    "crossfade_settings = [QuadraticCrossfadeSettings(length=50),\n",
    "                               QuadraticCrossfadeSettings(length=5),\n",
    "                               QuadraticCrossfadeSettings(length=5)]\n",
    "\n",
    "crossfade_frequencies = [200, 2000]\n",
    "\n",
    "band_settings = {'mid':\n",
    "                 [BurgPLCSettings(fade_in=QuadraticCrossfadeSettings(length=1), crossfade=QuadraticCrossfadeSettings(length=50), order=1024),\n",
    "                 BurgPLCSettings(fade_in=QuadraticCrossfadeSettings(length=1), crossfade=QuadraticCrossfadeSettings(length=5), order=512),\n",
    "                 BurgPLCSettings(fade_in=QuadraticCrossfadeSettings(length=1), crossfade=QuadraticCrossfadeSettings(length=1), order=256)],\n",
    "                 'side':\n",
    "                 [BurgPLCSettings(fade_in=QuadraticCrossfadeSettings(length=1), crossfade=QuadraticCrossfadeSettings(length=50), order=1024),\n",
    "                 BurgPLCSettings(fade_in=QuadraticCrossfadeSettings(length=1), crossfade=QuadraticCrossfadeSettings(length=1), order=256)]}\n",
    "\n",
    "plc_algorithms = [(AdvancedPLC, AdvancedPLCSettings(band_settings, frequencies = {'mid': [200, 2000], 'side': [1000]}, channel_link=False, stereo_image_processing = StereoImageType.mid_side)),\n",
    "                  (ZerosPLC, ZerosPLCSettings(crossfade_frequencies=crossfade_frequencies, fade_in=QuadraticCrossfadeSettings(length=10), crossfade=crossfade_settings)),\n",
    "                  (LastPacketPLC, LastPacketPLCSettings(fade_in=QuadraticCrossfadeSettings(length=1), crossfade=QuadraticCrossfadeSettings(length=10), mirror_x=True, mirror_y=True, clip_strategy=ClipStrategy.clip)),\n",
    "                  (LowCostPLC, LowCostPLCSettings(fade_in=QuadraticCrossfadeSettings(length=1), crossfade=QuadraticCrossfadeSettings(length=10))),\n",
    "                  (BurgPLC, BurgPLCSettings(fade_in=QuadraticCrossfadeSettings(length=1), crossfade=QuadraticCrossfadeSettings(length=10)))]\n",
    "\n",
    "metrics = [(MSECalculator, MSECalculatorSettings()),\n",
    "           (MAECalculator, MAECalculatorSettings()),\n",
    "           (PEAQCalculator, PEAQCalculatorSettings())]\n",
    "\n",
    "testbench = PLCTestbench(original_audio_tracks, packet_loss_simulators, plc_algorithms, metrics, testbench_settings)"
   ]
  },
  {
   "cell_type": "code",
   "execution_count": 2,
   "metadata": {},
   "outputs": [
    {
     "data": {
      "application/vnd.jupyter.widget-view+json": {
       "model_id": "149c2232532148e6b2f1edb724e1518b",
       "version_major": 2,
       "version_minor": 0
      },
      "text/plain": [
       "Audio Tracks:   0%|          | 0/2 [00:00<?, ?it/s]"
      ]
     },
     "metadata": {},
     "output_type": "display_data"
    },
    {
     "data": {
      "application/vnd.jupyter.widget-view+json": {
       "model_id": "8be8faa23d874773b275003bae23182f",
       "version_major": 2,
       "version_minor": 0
      },
      "text/plain": [
       "OriginalAudio:   0%|          | 0/10 [00:00<?, ?it/s]"
      ]
     },
     "metadata": {},
     "output_type": "display_data"
    },
    {
     "data": {
      "application/vnd.jupyter.widget-view+json": {
       "model_id": "76fa631b0a1b41f9a7b87d8b243407d6",
       "version_major": 2,
       "version_minor": 0
      },
      "text/plain": [
       "GilbertElliotPLS_s1:   0%|          | 0/3951360 [00:00<?, ?it/s]"
      ]
     },
     "metadata": {},
     "output_type": "display_data"
    },
    {
     "data": {
      "application/vnd.jupyter.widget-view+json": {
       "model_id": "a8a8582e8bf749a5b076804237509754",
       "version_major": 2,
       "version_minor": 0
      },
      "text/plain": [
       "BinomialPLS_s1:   0%|          | 0/3951360 [00:00<?, ?it/s]"
      ]
     },
     "metadata": {},
     "output_type": "display_data"
    },
    {
     "data": {
      "application/vnd.jupyter.widget-view+json": {
       "model_id": "97c1c2d308b047659ce165fe0de0fefe",
       "version_major": 2,
       "version_minor": 0
      },
      "text/plain": [
       "AdvancedPLC:   0%|          | 0/2 [00:00<?, ?it/s]"
      ]
     },
     "metadata": {},
     "output_type": "display_data"
    },
    {
     "data": {
      "application/vnd.jupyter.widget-view+json": {
       "model_id": "d1abaf04184544ce8b6dc47db905b4ef",
       "version_major": 2,
       "version_minor": 0
      },
      "text/plain": [
       "Mid:   0%|          | 0/3 [00:00<?, ?it/s]"
      ]
     },
     "metadata": {},
     "output_type": "display_data"
    },
    {
     "data": {
      "application/vnd.jupyter.widget-view+json": {
       "model_id": "6b9bcaa558564c62b76a278cd8b46ce0",
       "version_major": 2,
       "version_minor": 0
      },
      "text/plain": [
       "BurgPLC:   0%|          | 0/123480 [00:00<?, ?it/s]"
      ]
     },
     "metadata": {},
     "output_type": "display_data"
    },
    {
     "data": {
      "application/vnd.jupyter.widget-view+json": {
       "model_id": "a76de80e00ad4ff28273c18cc18cb239",
       "version_major": 2,
       "version_minor": 0
      },
      "text/plain": [
       "BurgPLC:   0%|          | 0/123480 [00:00<?, ?it/s]"
      ]
     },
     "metadata": {},
     "output_type": "display_data"
    },
    {
     "data": {
      "application/vnd.jupyter.widget-view+json": {
       "model_id": "863a24cc1cc245d6894a7a3b642113e9",
       "version_major": 2,
       "version_minor": 0
      },
      "text/plain": [
       "BurgPLC:   0%|          | 0/123480 [00:00<?, ?it/s]"
      ]
     },
     "metadata": {},
     "output_type": "display_data"
    },
    {
     "data": {
      "application/vnd.jupyter.widget-view+json": {
       "model_id": "00484890096c40339764e9b40dc1dc01",
       "version_major": 2,
       "version_minor": 0
      },
      "text/plain": [
       "Side:   0%|          | 0/2 [00:00<?, ?it/s]"
      ]
     },
     "metadata": {},
     "output_type": "display_data"
    },
    {
     "data": {
      "application/vnd.jupyter.widget-view+json": {
       "model_id": "e20036a0ca8a49259e835907799778ae",
       "version_major": 2,
       "version_minor": 0
      },
      "text/plain": [
       "BurgPLC:   0%|          | 0/123480 [00:00<?, ?it/s]"
      ]
     },
     "metadata": {},
     "output_type": "display_data"
    },
    {
     "data": {
      "application/vnd.jupyter.widget-view+json": {
       "model_id": "d71080e564624b53ae58ef1075ba460b",
       "version_major": 2,
       "version_minor": 0
      },
      "text/plain": [
       "BurgPLC:   0%|          | 0/123480 [00:00<?, ?it/s]"
      ]
     },
     "metadata": {},
     "output_type": "display_data"
    },
    {
     "data": {
      "application/vnd.jupyter.widget-view+json": {
       "model_id": "454d69e1563a4aba86f448b44d631d7a",
       "version_major": 2,
       "version_minor": 0
      },
      "text/plain": [
       "ZerosPLC:   0%|          | 0/123480 [00:00<?, ?it/s]"
      ]
     },
     "metadata": {},
     "output_type": "display_data"
    },
    {
     "data": {
      "application/vnd.jupyter.widget-view+json": {
       "model_id": "be1546f9589b4b2fa0094bb0a7a56681",
       "version_major": 2,
       "version_minor": 0
      },
      "text/plain": [
       "LastPacketPLC:   0%|          | 0/123480 [00:00<?, ?it/s]"
      ]
     },
     "metadata": {},
     "output_type": "display_data"
    },
    {
     "data": {
      "application/vnd.jupyter.widget-view+json": {
       "model_id": "66dac014f45d49359263378dac1f44ac",
       "version_major": 2,
       "version_minor": 0
      },
      "text/plain": [
       "LowCostPLC:   0%|          | 0/123480 [00:00<?, ?it/s]"
      ]
     },
     "metadata": {},
     "output_type": "display_data"
    },
    {
     "data": {
      "application/vnd.jupyter.widget-view+json": {
       "model_id": "8ec61e60f1124a8b99ad79833157e266",
       "version_major": 2,
       "version_minor": 0
      },
      "text/plain": [
       "BurgPLC:   0%|          | 0/123480 [00:00<?, ?it/s]"
      ]
     },
     "metadata": {},
     "output_type": "display_data"
    },
    {
     "data": {
      "application/vnd.jupyter.widget-view+json": {
       "model_id": "643bb1ec6be84566a3836b13f57fcad6",
       "version_major": 2,
       "version_minor": 0
      },
      "text/plain": [
       "AdvancedPLC:   0%|          | 0/2 [00:00<?, ?it/s]"
      ]
     },
     "metadata": {},
     "output_type": "display_data"
    },
    {
     "data": {
      "application/vnd.jupyter.widget-view+json": {
       "model_id": "7f74ef48f7134ef897999e798cd4996c",
       "version_major": 2,
       "version_minor": 0
      },
      "text/plain": [
       "Mid:   0%|          | 0/3 [00:00<?, ?it/s]"
      ]
     },
     "metadata": {},
     "output_type": "display_data"
    },
    {
     "data": {
      "application/vnd.jupyter.widget-view+json": {
       "model_id": "e67c164e320342df8dfefd48b1fcf409",
       "version_major": 2,
       "version_minor": 0
      },
      "text/plain": [
       "BurgPLC:   0%|          | 0/123480 [00:00<?, ?it/s]"
      ]
     },
     "metadata": {},
     "output_type": "display_data"
    },
    {
     "data": {
      "application/vnd.jupyter.widget-view+json": {
       "model_id": "944c007066db40b6abc6b1068dc94cb2",
       "version_major": 2,
       "version_minor": 0
      },
      "text/plain": [
       "BurgPLC:   0%|          | 0/123480 [00:00<?, ?it/s]"
      ]
     },
     "metadata": {},
     "output_type": "display_data"
    },
    {
     "data": {
      "application/vnd.jupyter.widget-view+json": {
       "model_id": "fff6ac3afa4c4e95adbf57593751056f",
       "version_major": 2,
       "version_minor": 0
      },
      "text/plain": [
       "BurgPLC:   0%|          | 0/123480 [00:00<?, ?it/s]"
      ]
     },
     "metadata": {},
     "output_type": "display_data"
    },
    {
     "data": {
      "application/vnd.jupyter.widget-view+json": {
       "model_id": "6dffe5ad151d47978e4b0489d0deaefe",
       "version_major": 2,
       "version_minor": 0
      },
      "text/plain": [
       "Side:   0%|          | 0/2 [00:00<?, ?it/s]"
      ]
     },
     "metadata": {},
     "output_type": "display_data"
    },
    {
     "data": {
      "application/vnd.jupyter.widget-view+json": {
       "model_id": "32ed9c9acc904f248d50c05b3ae5b854",
       "version_major": 2,
       "version_minor": 0
      },
      "text/plain": [
       "BurgPLC:   0%|          | 0/123480 [00:00<?, ?it/s]"
      ]
     },
     "metadata": {},
     "output_type": "display_data"
    },
    {
     "data": {
      "application/vnd.jupyter.widget-view+json": {
       "model_id": "57a748f2badf42e2ab454275e86ff72f",
       "version_major": 2,
       "version_minor": 0
      },
      "text/plain": [
       "BurgPLC:   0%|          | 0/123480 [00:00<?, ?it/s]"
      ]
     },
     "metadata": {},
     "output_type": "display_data"
    },
    {
     "data": {
      "application/vnd.jupyter.widget-view+json": {
       "model_id": "4da0a25a55fe4dac9c2e30e440e587a6",
       "version_major": 2,
       "version_minor": 0
      },
      "text/plain": [
       "ZerosPLC:   0%|          | 0/123480 [00:00<?, ?it/s]"
      ]
     },
     "metadata": {},
     "output_type": "display_data"
    },
    {
     "data": {
      "application/vnd.jupyter.widget-view+json": {
       "model_id": "ff43f199b9dc41bd9b9c0fcac38f389e",
       "version_major": 2,
       "version_minor": 0
      },
      "text/plain": [
       "LastPacketPLC:   0%|          | 0/123480 [00:00<?, ?it/s]"
      ]
     },
     "metadata": {},
     "output_type": "display_data"
    },
    {
     "data": {
      "application/vnd.jupyter.widget-view+json": {
       "model_id": "45f23e4f5bc74c4a839552a235eb06bd",
       "version_major": 2,
       "version_minor": 0
      },
      "text/plain": [
       "LowCostPLC:   0%|          | 0/123480 [00:00<?, ?it/s]"
      ]
     },
     "metadata": {},
     "output_type": "display_data"
    },
    {
     "data": {
      "application/vnd.jupyter.widget-view+json": {
       "model_id": "9e5e40fd34bf46c281da581cfe6e2520",
       "version_major": 2,
       "version_minor": 0
      },
      "text/plain": [
       "BurgPLC:   0%|          | 0/123480 [00:00<?, ?it/s]"
      ]
     },
     "metadata": {},
     "output_type": "display_data"
    },
    {
     "data": {
      "application/vnd.jupyter.widget-view+json": {
       "model_id": "922733fc607546a8941abdd8477e6df6",
       "version_major": 2,
       "version_minor": 0
      },
      "text/plain": [
       "MSECalculator:   0%|          | 0/7716 [00:00<?, ?it/s]"
      ]
     },
     "metadata": {},
     "output_type": "display_data"
    },
    {
     "data": {
      "application/vnd.jupyter.widget-view+json": {
       "model_id": "7587985d028d4f1ebd5334c6ce892ae1",
       "version_major": 2,
       "version_minor": 0
      },
      "text/plain": [
       "MAECalculator:   0%|          | 0/7716 [00:00<?, ?it/s]"
      ]
     },
     "metadata": {},
     "output_type": "display_data"
    },
    {
     "data": {
      "application/vnd.jupyter.widget-view+json": {
       "model_id": "e796e6d44a65492f8b1561e62ea73196",
       "version_major": 2,
       "version_minor": 0
      },
      "text/plain": [
       "MSECalculator:   0%|          | 0/7716 [00:00<?, ?it/s]"
      ]
     },
     "metadata": {},
     "output_type": "display_data"
    },
    {
     "data": {
      "application/vnd.jupyter.widget-view+json": {
       "model_id": "bf8e5bfc5a1049dca6fc1dbff5710352",
       "version_major": 2,
       "version_minor": 0
      },
      "text/plain": [
       "MAECalculator:   0%|          | 0/7716 [00:00<?, ?it/s]"
      ]
     },
     "metadata": {},
     "output_type": "display_data"
    },
    {
     "data": {
      "application/vnd.jupyter.widget-view+json": {
       "model_id": "29f227af53cf4fe5a7427b1f6f89c97f",
       "version_major": 2,
       "version_minor": 0
      },
      "text/plain": [
       "MSECalculator:   0%|          | 0/7716 [00:00<?, ?it/s]"
      ]
     },
     "metadata": {},
     "output_type": "display_data"
    },
    {
     "data": {
      "application/vnd.jupyter.widget-view+json": {
       "model_id": "78b3ba1655e341a2bf8502993ba278c8",
       "version_major": 2,
       "version_minor": 0
      },
      "text/plain": [
       "MAECalculator:   0%|          | 0/7716 [00:00<?, ?it/s]"
      ]
     },
     "metadata": {},
     "output_type": "display_data"
    },
    {
     "data": {
      "application/vnd.jupyter.widget-view+json": {
       "model_id": "1679851077d24d1fbcd1feb2609a0eec",
       "version_major": 2,
       "version_minor": 0
      },
      "text/plain": [
       "MSECalculator:   0%|          | 0/7716 [00:00<?, ?it/s]"
      ]
     },
     "metadata": {},
     "output_type": "display_data"
    },
    {
     "data": {
      "application/vnd.jupyter.widget-view+json": {
       "model_id": "1f4da6991d384ce38f3a037d70d3d34c",
       "version_major": 2,
       "version_minor": 0
      },
      "text/plain": [
       "MAECalculator:   0%|          | 0/7716 [00:00<?, ?it/s]"
      ]
     },
     "metadata": {},
     "output_type": "display_data"
    },
    {
     "data": {
      "application/vnd.jupyter.widget-view+json": {
       "model_id": "0c520c6eae234f279054eb6fb95e136c",
       "version_major": 2,
       "version_minor": 0
      },
      "text/plain": [
       "MSECalculator:   0%|          | 0/7716 [00:00<?, ?it/s]"
      ]
     },
     "metadata": {},
     "output_type": "display_data"
    },
    {
     "data": {
      "application/vnd.jupyter.widget-view+json": {
       "model_id": "332fbcf595054eb1a73fda831da0a4ce",
       "version_major": 2,
       "version_minor": 0
      },
      "text/plain": [
       "MAECalculator:   0%|          | 0/7716 [00:00<?, ?it/s]"
      ]
     },
     "metadata": {},
     "output_type": "display_data"
    },
    {
     "data": {
      "application/vnd.jupyter.widget-view+json": {
       "model_id": "2c7d83a077ca418894bdd0f7fb75dc45",
       "version_major": 2,
       "version_minor": 0
      },
      "text/plain": [
       "MSECalculator:   0%|          | 0/7716 [00:00<?, ?it/s]"
      ]
     },
     "metadata": {},
     "output_type": "display_data"
    },
    {
     "data": {
      "application/vnd.jupyter.widget-view+json": {
       "model_id": "e3ad1ef3e7334df08d33bb474636f554",
       "version_major": 2,
       "version_minor": 0
      },
      "text/plain": [
       "MAECalculator:   0%|          | 0/7716 [00:00<?, ?it/s]"
      ]
     },
     "metadata": {},
     "output_type": "display_data"
    },
    {
     "data": {
      "application/vnd.jupyter.widget-view+json": {
       "model_id": "9cef13a975564b6897d417e14aa97f2d",
       "version_major": 2,
       "version_minor": 0
      },
      "text/plain": [
       "MSECalculator:   0%|          | 0/7716 [00:00<?, ?it/s]"
      ]
     },
     "metadata": {},
     "output_type": "display_data"
    },
    {
     "data": {
      "application/vnd.jupyter.widget-view+json": {
       "model_id": "5813ce5a8dfe4ecab3c94797a423bb63",
       "version_major": 2,
       "version_minor": 0
      },
      "text/plain": [
       "MAECalculator:   0%|          | 0/7716 [00:00<?, ?it/s]"
      ]
     },
     "metadata": {},
     "output_type": "display_data"
    },
    {
     "data": {
      "application/vnd.jupyter.widget-view+json": {
       "model_id": "88aae1df6d304867ba073b3186860c5e",
       "version_major": 2,
       "version_minor": 0
      },
      "text/plain": [
       "MSECalculator:   0%|          | 0/7716 [00:00<?, ?it/s]"
      ]
     },
     "metadata": {},
     "output_type": "display_data"
    }
   ],
   "source": [
    "testbench.run()"
   ]
  },
  {
   "cell_type": "code",
   "execution_count": null,
   "metadata": {},
   "outputs": [],
   "source": [
    "%matplotlib inline\n",
    "testbench.plot(to_file=True, original_tracks=True, lost_samples_masks=True, output_analyses=True)"
   ]
  }
 ],
 "metadata": {
  "kernelspec": {
   "display_name": "env",
   "language": "python",
   "name": "python3"
  },
  "language_info": {
   "codemirror_mode": {
    "name": "ipython",
    "version": 3
   },
   "file_extension": ".py",
   "mimetype": "text/x-python",
   "name": "python",
   "nbconvert_exporter": "python",
   "pygments_lexer": "ipython3",
   "version": "3.7.3"
  },
  "vscode": {
   "interpreter": {
    "hash": "2cc8ff84be1dff75fd8d0f329b6cb7fa2d83fc2b8b0b45b97b39a5625e8c2b22"
   }
  }
 },
 "nbformat": 4,
 "nbformat_minor": 4
}

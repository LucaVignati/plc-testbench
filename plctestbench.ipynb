{
 "cells": [
  {
   "attachments": {},
   "cell_type": "markdown",
   "metadata": {},
   "source": [
    "# PLCTestbench"
   ]
  },
  {
   "cell_type": "code",
   "execution_count": 1,
   "metadata": {
    "scrolled": false,
    "tags": [
     "outputPrepend",
     "outputPrepend"
    ]
   },
   "outputs": [
    {
     "name": "stderr",
     "output_type": "stream",
     "text": [
      "2024-01-25 15:09:38.211483: I tensorflow/core/util/port.cc:111] oneDNN custom operations are on. You may see slightly different numerical results due to floating-point round-off errors from different computation orders. To turn them off, set the environment variable `TF_ENABLE_ONEDNN_OPTS=0`.\n",
      "2024-01-25 15:09:38.220644: I tensorflow/tsl/cuda/cudart_stub.cc:28] Could not find cuda drivers on your machine, GPU will not be used.\n",
      "2024-01-25 15:09:38.299419: E tensorflow/compiler/xla/stream_executor/cuda/cuda_dnn.cc:9342] Unable to register cuDNN factory: Attempting to register factory for plugin cuDNN when one has already been registered\n",
      "2024-01-25 15:09:38.299510: E tensorflow/compiler/xla/stream_executor/cuda/cuda_fft.cc:609] Unable to register cuFFT factory: Attempting to register factory for plugin cuFFT when one has already been registered\n",
      "2024-01-25 15:09:38.299588: E tensorflow/compiler/xla/stream_executor/cuda/cuda_blas.cc:1518] Unable to register cuBLAS factory: Attempting to register factory for plugin cuBLAS when one has already been registered\n",
      "2024-01-25 15:09:38.318503: I tensorflow/tsl/cuda/cudart_stub.cc:28] Could not find cuda drivers on your machine, GPU will not be used.\n",
      "2024-01-25 15:09:38.320320: I tensorflow/core/platform/cpu_feature_guard.cc:182] This TensorFlow binary is optimized to use available CPU instructions in performance-critical operations.\n",
      "To enable the following instructions: AVX2 AVX512F AVX512_VNNI FMA, in other operations, rebuild TensorFlow with the appropriate compiler flags.\n",
      "2024-01-25 15:09:40.332828: W tensorflow/compiler/tf2tensorrt/utils/py_utils.cc:38] TF-TRT Warning: Could not find TensorRT\n"
     ]
    },
    {
     "name": "stdout",
     "output_type": "stream",
     "text": [
      "User already exists in the database.\n"
     ]
    }
   ],
   "source": [
    "from plctestbench.settings import *\n",
    "from plctestbench.plc_testbench import PLCTestbench\n",
    "from plctestbench.loss_simulator import BinomialPLS, GilbertElliotPLS\n",
    "from plctestbench.plc_algorithm import AdvancedPLC, ZerosPLC, LastPacketPLC, LowCostPLC, BurgPLC, ExternalPLC\n",
    "from plctestbench.output_analyser import MSECalculator, MAECalculator, PEAQCalculator\n",
    "\n",
    "from plctestbench.worker import OriginalAudio\n",
    "\n",
    "testbench_settings = {\n",
    "    'root_folder': '../original_tracks',\n",
    "    'db_ip': '127.0.0.1',\n",
    "    'db_username': 'myUserAdmin',\n",
    "    'db_password': 'admin',\n",
    "}\n",
    "\n",
    "original_audio_tracks = [(OriginalAudio, OriginalAudioSettings('Blues_Guitar.wav')),\n",
    "                         (OriginalAudio, OriginalAudioSettings('Blues_Bass.wav'))]\n",
    "\n",
    "packet_loss_simulators = [(GilbertElliotPLS, GilbertElliotPLSSettings()),\n",
    "                          (BinomialPLS, BinomialPLSSettings())]\n",
    "\n",
    "crossfade_settings = [QuadraticCrossfadeSettings(length=50),\n",
    "                               QuadraticCrossfadeSettings(length=5),\n",
    "                               QuadraticCrossfadeSettings(length=5)]\n",
    "\n",
    "crossfade_frequencies = [200, 2000]\n",
    "\n",
    "band_settings = {'mid':\n",
    "                 [BurgPLCSettings(fade_in=QuadraticCrossfadeSettings(length=1), crossfade=QuadraticCrossfadeSettings(length=50), order=1024),\n",
    "                 BurgPLCSettings(fade_in=QuadraticCrossfadeSettings(length=1), crossfade=QuadraticCrossfadeSettings(length=5), order=512),\n",
    "                 BurgPLCSettings(fade_in=QuadraticCrossfadeSettings(length=1), crossfade=QuadraticCrossfadeSettings(length=1), order=256)],\n",
    "                 'side':\n",
    "                 [BurgPLCSettings(fade_in=QuadraticCrossfadeSettings(length=1), crossfade=QuadraticCrossfadeSettings(length=50), order=1024),\n",
    "                 BurgPLCSettings(fade_in=QuadraticCrossfadeSettings(length=1), crossfade=QuadraticCrossfadeSettings(length=1), order=256)]}\n",
    "\n",
    "plc_algorithms = [(AdvancedPLC, AdvancedPLCSettings(band_settings, frequencies = {'mid': [200, 2000], 'side': [1000]}, channel_link=False, stereo_image_processing = StereoImageType.mid_side)),\n",
    "                  (ZerosPLC, ZerosPLCSettings(crossfade_frequencies=crossfade_frequencies, fade_in=QuadraticCrossfadeSettings(length=10), crossfade=crossfade_settings)),\n",
    "                  (LastPacketPLC, LastPacketPLCSettings(fade_in=QuadraticCrossfadeSettings(length=1), crossfade=QuadraticCrossfadeSettings(length=10), mirror_x=True, mirror_y=True, clip_strategy=ClipStrategy.clip)),\n",
    "                  (LowCostPLC, LowCostPLCSettings(fade_in=QuadraticCrossfadeSettings(length=1), crossfade=QuadraticCrossfadeSettings(length=10))),\n",
    "                  (BurgPLC, BurgPLCSettings(fade_in=QuadraticCrossfadeSettings(length=1), crossfade=QuadraticCrossfadeSettings(length=10)))]\n",
    "\n",
    "metrics = [(MSECalculator, MSECalculatorSettings()),\n",
    "           (MAECalculator, MAECalculatorSettings()),\n",
    "           (PEAQCalculator, PEAQCalculatorSettings())]\n",
    "\n",
    "testbench = PLCTestbench(original_audio_tracks, packet_loss_simulators, plc_algorithms, metrics, testbench_settings)"
   ]
  },
  {
   "cell_type": "code",
   "execution_count": null,
   "metadata": {},
   "outputs": [],
   "source": [
    "testbench.run()"
   ]
  },
  {
   "cell_type": "code",
   "execution_count": null,
   "metadata": {},
   "outputs": [],
   "source": [
    "%matplotlib inline\n",
    "testbench.plot(to_file=True, original_tracks=True, lost_samples_masks=True, output_analyses=True)"
   ]
  }
 ],
 "metadata": {
  "kernelspec": {
   "display_name": "env",
   "language": "python",
   "name": "python3"
  },
  "language_info": {
   "codemirror_mode": {
    "name": "ipython",
    "version": 3
   },
   "file_extension": ".py",
   "mimetype": "text/x-python",
   "name": "python",
   "nbconvert_exporter": "python",
   "pygments_lexer": "ipython3",
   "version": "3.7.3"
  },
  "vscode": {
   "interpreter": {
    "hash": "2cc8ff84be1dff75fd8d0f329b6cb7fa2d83fc2b8b0b45b97b39a5625e8c2b22"
   }
  }
 },
 "nbformat": 4,
 "nbformat_minor": 4
}

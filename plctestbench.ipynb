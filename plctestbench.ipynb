{
 "cells": [
  {
   "attachments": {},
   "cell_type": "markdown",
   "metadata": {},
   "source": [
    "# PLCTestbench"
   ]
  },
  {
   "cell_type": "code",
   "execution_count": 1,
   "metadata": {
    "scrolled": false,
    "tags": [
     "outputPrepend",
     "outputPrepend"
    ]
   },
   "outputs": [
    {
     "name": "stdout",
     "output_type": "stream",
     "text": [
      "User already exists in the database.\n"
     ]
    }
   ],
   "source": [
    "from plctestbench.settings import *\n",
    "from plctestbench.plc_testbench import PLCTestbench\n",
    "from plctestbench.loss_simulator import BinomialPLS, GilbertElliotPLS\n",
    "from plctestbench.plc_algorithm import AdvancedPLC, ZerosPLC, LastPacketPLC, LowCostPLC, BurgPLC, ExternalPLC\n",
    "from plctestbench.output_analyser import MSECalculator, MAECalculator, PEAQCalculator\n",
    "\n",
    "from plctestbench.worker import OriginalAudio\n",
    "\n",
    "testbench_settings = {\n",
    "    'root_folder': 'C:\\\\Data\\\\personale\\\\Università\\\\2022-2023\\\\original_tracks',\n",
    "    'db_ip': 'localhost',\n",
    "    'db_username': 'root',\n",
    "    'db_password': 'Marmolada3343',\n",
    "}\n",
    "\n",
    "original_audio_tracks = [(OriginalAudio, OriginalAudioSettings('Blues_Bass.wav')),\n",
    "                         (OriginalAudio, OriginalAudioSettings('Blues_Guitar.wav'))]\n",
    "\n",
    "packet_loss_simulators = [(GilbertElliotPLS, GilbertElliotPLSSettings()),\n",
    "                          (BinomialPLS, BinomialPLSSettings())]\n",
    "\n",
    "multiband_crossfade_settings = [QuadraticCrossfadeSettings(length=50),\n",
    "                               QuadraticCrossfadeSettings(length=5),\n",
    "                               QuadraticCrossfadeSettings(length=5)]\n",
    "\n",
    "band_settings = {'mid':\n",
    "                 [(BurgPLC, BurgPLCSettings(fade_in=[QuadraticCrossfadeSettings(length=1)], crossfade=[QuadraticCrossfadeSettings(length=50)], order=1024)),\n",
    "                 (BurgPLC, BurgPLCSettings(fade_in=[QuadraticCrossfadeSettings(length=1)], crossfade=[QuadraticCrossfadeSettings(length=5)], order=512)),\n",
    "                 (BurgPLC, BurgPLCSettings(fade_in=[QuadraticCrossfadeSettings(length=1)], crossfade=[QuadraticCrossfadeSettings(length=1)], order=256))],\n",
    "                 'side':\n",
    "                 [(BurgPLC, BurgPLCSettings(fade_in=[QuadraticCrossfadeSettings(length=1)], crossfade=[QuadraticCrossfadeSettings(length=50)], order=1024)),\n",
    "                 (BurgPLC, BurgPLCSettings(fade_in=[QuadraticCrossfadeSettings(length=1)], crossfade=[QuadraticCrossfadeSettings(length=1)], order=256))]}\n",
    "\n",
    "plc_algorithms = [(AdvancedPLC, AdvancedPLCSettings(band_settings, frequencies = {'mid': [200, 2000], 'side': [1000]}, channel_link=False, stereo_image_processing = StereoImageType.mid_side)),\n",
    "                  (ZerosPLC, ZerosPLCSettings(frequencies=[20, 2000], fade_in=[QuadraticCrossfadeSettings(length=10)], crossfade=multiband_crossfade_settings)),\n",
    "                  (LastPacketPLC, LastPacketPLCSettings(fade_in=[QuadraticCrossfadeSettings(length=1)], crossfade=[QuadraticCrossfadeSettings(length=10)], mirror_x=True, mirror_y=True)),\n",
    "                  (LowCostPLC, LowCostPLCSettings(fade_in=[QuadraticCrossfadeSettings(length=1)], crossfade=[QuadraticCrossfadeSettings(length=10)])),\n",
    "                  (BurgPLC, BurgPLCSettings(fade_in=[QuadraticCrossfadeSettings(length=1)], crossfade=[QuadraticCrossfadeSettings(length=10)]))]\n",
    "\n",
    "metrics = [(MSECalculator, MSECalculatorSettings()),\n",
    "           (MAECalculator, MAECalculatorSettings())\n",
    "           #,(PEAQCalculator, PEAQCalculatorSettings())\n",
    "           ]\n",
    "\n",
    "testbench = PLCTestbench(original_audio_tracks, packet_loss_simulators, plc_algorithms, metrics, testbench_settings)"
   ]
  },
  {
   "cell_type": "code",
   "execution_count": 2,
   "metadata": {},
   "outputs": [
    {
     "data": {
      "application/vnd.jupyter.widget-view+json": {
       "model_id": "a47dafaadfcf4b819d24896eebd4ae6f",
       "version_major": 2,
       "version_minor": 0
      },
      "text/plain": [
       "Audio Tracks:   0%|          | 0/2 [00:00<?, ?it/s]"
      ]
     },
     "metadata": {},
     "output_type": "display_data"
    },
    {
     "data": {
      "application/vnd.jupyter.widget-view+json": {
       "model_id": "a2df22f6cfe448c7abcff135a7e95603",
       "version_major": 2,
       "version_minor": 0
      },
      "text/plain": [
       "OriginalAudio:   0%|          | 0/10 [00:00<?, ?it/s]"
      ]
     },
     "metadata": {},
     "output_type": "display_data"
    },
    {
     "data": {
      "application/vnd.jupyter.widget-view+json": {
       "model_id": "299318f8071e437c9b07c7140c067efa",
       "version_major": 2,
       "version_minor": 0
      },
      "text/plain": [
       "GilbertElliotPLS_s1:   0%|          | 0/3951360 [00:00<?, ?it/s]"
      ]
     },
     "metadata": {},
     "output_type": "display_data"
    },
    {
     "data": {
      "application/vnd.jupyter.widget-view+json": {
       "model_id": "860c19b958a64e64813dd462b16b3956",
       "version_major": 2,
       "version_minor": 0
      },
      "text/plain": [
       "BinomialPLS_s1:   0%|          | 0/3951360 [00:00<?, ?it/s]"
      ]
     },
     "metadata": {},
     "output_type": "display_data"
    },
    {
     "data": {
      "application/vnd.jupyter.widget-view+json": {
       "model_id": "7ca10015a4874e2dab0d7a279d9fc51e",
       "version_major": 2,
       "version_minor": 0
      },
      "text/plain": [
       "AdvancedPLC:   0%|          | 0/2 [00:00<?, ?it/s]"
      ]
     },
     "metadata": {},
     "output_type": "display_data"
    },
    {
     "data": {
      "application/vnd.jupyter.widget-view+json": {
       "model_id": "275a66abf34847deaa66e53f020d3c6c",
       "version_major": 2,
       "version_minor": 0
      },
      "text/plain": [
       "Mid:   0%|          | 0/3 [00:00<?, ?it/s]"
      ]
     },
     "metadata": {},
     "output_type": "display_data"
    },
    {
     "data": {
      "application/vnd.jupyter.widget-view+json": {
       "model_id": "3a2da26c1a52440dbb92c7c19d82816d",
       "version_major": 2,
       "version_minor": 0
      },
      "text/plain": [
       "BurgPLC:   0%|          | 0/123480 [00:00<?, ?it/s]"
      ]
     },
     "metadata": {},
     "output_type": "display_data"
    },
    {
     "data": {
      "application/vnd.jupyter.widget-view+json": {
       "model_id": "ff8946fbadb24e81bc2e3f8e571c045e",
       "version_major": 2,
       "version_minor": 0
      },
      "text/plain": [
       "BurgPLC:   0%|          | 0/123480 [00:00<?, ?it/s]"
      ]
     },
     "metadata": {},
     "output_type": "display_data"
    },
    {
     "data": {
      "application/vnd.jupyter.widget-view+json": {
       "model_id": "5117fc85ea674760bd35f3c13245550e",
       "version_major": 2,
       "version_minor": 0
      },
      "text/plain": [
       "BurgPLC:   0%|          | 0/123480 [00:00<?, ?it/s]"
      ]
     },
     "metadata": {},
     "output_type": "display_data"
    },
    {
     "data": {
      "application/vnd.jupyter.widget-view+json": {
       "model_id": "5e6861560f0c49e5af1d4d5043393c33",
       "version_major": 2,
       "version_minor": 0
      },
      "text/plain": [
       "Side:   0%|          | 0/2 [00:00<?, ?it/s]"
      ]
     },
     "metadata": {},
     "output_type": "display_data"
    },
    {
     "data": {
      "application/vnd.jupyter.widget-view+json": {
       "model_id": "3351fdab006e40d0a6748c52fff851b2",
       "version_major": 2,
       "version_minor": 0
      },
      "text/plain": [
       "BurgPLC:   0%|          | 0/123480 [00:00<?, ?it/s]"
      ]
     },
     "metadata": {},
     "output_type": "display_data"
    },
    {
     "data": {
      "application/vnd.jupyter.widget-view+json": {
       "model_id": "9da4f0c331c9469e8a8978d8a6fab90d",
       "version_major": 2,
       "version_minor": 0
      },
      "text/plain": [
       "BurgPLC:   0%|          | 0/123480 [00:00<?, ?it/s]"
      ]
     },
     "metadata": {},
     "output_type": "display_data"
    },
    {
     "data": {
      "application/vnd.jupyter.widget-view+json": {
       "model_id": "ecd0f61a8d884f89ba11d172d5e616f3",
       "version_major": 2,
       "version_minor": 0
      },
      "text/plain": [
       "ZerosPLC:   0%|          | 0/123480 [00:00<?, ?it/s]"
      ]
     },
     "metadata": {},
     "output_type": "display_data"
    },
    {
     "data": {
      "application/vnd.jupyter.widget-view+json": {
       "model_id": "805f05e91b62414a95c1cb060b6bd4ee",
       "version_major": 2,
       "version_minor": 0
      },
      "text/plain": [
       "LastPacketPLC:   0%|          | 0/123480 [00:00<?, ?it/s]"
      ]
     },
     "metadata": {},
     "output_type": "display_data"
    },
    {
     "data": {
      "application/vnd.jupyter.widget-view+json": {
       "model_id": "e0238e9123cb40b08ebb11e69c343530",
       "version_major": 2,
       "version_minor": 0
      },
      "text/plain": [
       "LowCostPLC:   0%|          | 0/123480 [00:00<?, ?it/s]"
      ]
     },
     "metadata": {},
     "output_type": "display_data"
    },
    {
     "data": {
      "application/vnd.jupyter.widget-view+json": {
       "model_id": "53b8b9b9b0f84c65ad90a2dc855bc66b",
       "version_major": 2,
       "version_minor": 0
      },
      "text/plain": [
       "BurgPLC:   0%|          | 0/123480 [00:00<?, ?it/s]"
      ]
     },
     "metadata": {},
     "output_type": "display_data"
    },
    {
     "data": {
      "application/vnd.jupyter.widget-view+json": {
       "model_id": "f186dac559e24d7da05c72cc8832558e",
       "version_major": 2,
       "version_minor": 0
      },
      "text/plain": [
       "AdvancedPLC:   0%|          | 0/2 [00:00<?, ?it/s]"
      ]
     },
     "metadata": {},
     "output_type": "display_data"
    },
    {
     "data": {
      "application/vnd.jupyter.widget-view+json": {
       "model_id": "2743b190236f4666a01e7cfa3f282c53",
       "version_major": 2,
       "version_minor": 0
      },
      "text/plain": [
       "Mid:   0%|          | 0/3 [00:00<?, ?it/s]"
      ]
     },
     "metadata": {},
     "output_type": "display_data"
    },
    {
     "data": {
      "application/vnd.jupyter.widget-view+json": {
       "model_id": "c26a5de9f090477ba4d7b18911199132",
       "version_major": 2,
       "version_minor": 0
      },
      "text/plain": [
       "BurgPLC:   0%|          | 0/123480 [00:00<?, ?it/s]"
      ]
     },
     "metadata": {},
     "output_type": "display_data"
    },
    {
     "data": {
      "application/vnd.jupyter.widget-view+json": {
       "model_id": "2bab450809f446b187da96cfbb905f44",
       "version_major": 2,
       "version_minor": 0
      },
      "text/plain": [
       "BurgPLC:   0%|          | 0/123480 [00:00<?, ?it/s]"
      ]
     },
     "metadata": {},
     "output_type": "display_data"
    },
    {
     "data": {
      "application/vnd.jupyter.widget-view+json": {
       "model_id": "4b9d04bd4c6047ad8a15df3c6c5dee4f",
       "version_major": 2,
       "version_minor": 0
      },
      "text/plain": [
       "BurgPLC:   0%|          | 0/123480 [00:00<?, ?it/s]"
      ]
     },
     "metadata": {},
     "output_type": "display_data"
    },
    {
     "data": {
      "application/vnd.jupyter.widget-view+json": {
       "model_id": "856f0cc63b354c9cb9978a2999bcabe7",
       "version_major": 2,
       "version_minor": 0
      },
      "text/plain": [
       "Side:   0%|          | 0/2 [00:00<?, ?it/s]"
      ]
     },
     "metadata": {},
     "output_type": "display_data"
    },
    {
     "data": {
      "application/vnd.jupyter.widget-view+json": {
       "model_id": "1b1b0d0674794115a948a39a09be7da8",
       "version_major": 2,
       "version_minor": 0
      },
      "text/plain": [
       "BurgPLC:   0%|          | 0/123480 [00:00<?, ?it/s]"
      ]
     },
     "metadata": {},
     "output_type": "display_data"
    },
    {
     "data": {
      "application/vnd.jupyter.widget-view+json": {
       "model_id": "021b87c133974ccfa42882df128e6fb4",
       "version_major": 2,
       "version_minor": 0
      },
      "text/plain": [
       "BurgPLC:   0%|          | 0/123480 [00:00<?, ?it/s]"
      ]
     },
     "metadata": {},
     "output_type": "display_data"
    },
    {
     "data": {
      "application/vnd.jupyter.widget-view+json": {
       "model_id": "eec76b55828b4c3caff3f79ffa0e14d8",
       "version_major": 2,
       "version_minor": 0
      },
      "text/plain": [
       "ZerosPLC:   0%|          | 0/123480 [00:00<?, ?it/s]"
      ]
     },
     "metadata": {},
     "output_type": "display_data"
    },
    {
     "data": {
      "application/vnd.jupyter.widget-view+json": {
       "model_id": "e1db9260027943269f4ece863c285258",
       "version_major": 2,
       "version_minor": 0
      },
      "text/plain": [
       "LastPacketPLC:   0%|          | 0/123480 [00:00<?, ?it/s]"
      ]
     },
     "metadata": {},
     "output_type": "display_data"
    },
    {
     "data": {
      "application/vnd.jupyter.widget-view+json": {
       "model_id": "0e280f2e29a942269c713005c3e05855",
       "version_major": 2,
       "version_minor": 0
      },
      "text/plain": [
       "LowCostPLC:   0%|          | 0/123480 [00:00<?, ?it/s]"
      ]
     },
     "metadata": {},
     "output_type": "display_data"
    },
    {
     "data": {
      "application/vnd.jupyter.widget-view+json": {
       "model_id": "d7e4515ee4174ab8a309344d44add80d",
       "version_major": 2,
       "version_minor": 0
      },
      "text/plain": [
       "BurgPLC:   0%|          | 0/123480 [00:00<?, ?it/s]"
      ]
     },
     "metadata": {},
     "output_type": "display_data"
    },
    {
     "data": {
      "application/vnd.jupyter.widget-view+json": {
       "model_id": "012fd5c5311f47a58d2c7dca1e4da0be",
       "version_major": 2,
       "version_minor": 0
      },
      "text/plain": [
       "MSECalculator:   0%|          | 0/7716 [00:00<?, ?it/s]"
      ]
     },
     "metadata": {},
     "output_type": "display_data"
    },
    {
     "data": {
      "application/vnd.jupyter.widget-view+json": {
       "model_id": "0f2a598533a248348625a7b99bdf2f0d",
       "version_major": 2,
       "version_minor": 0
      },
      "text/plain": [
       "MAECalculator:   0%|          | 0/7716 [00:00<?, ?it/s]"
      ]
     },
     "metadata": {},
     "output_type": "display_data"
    },
    {
     "data": {
      "application/vnd.jupyter.widget-view+json": {
       "model_id": "8109fd00ed314edcac8f44a302ac209e",
       "version_major": 2,
       "version_minor": 0
      },
      "text/plain": [
       "MSECalculator:   0%|          | 0/7716 [00:00<?, ?it/s]"
      ]
     },
     "metadata": {},
     "output_type": "display_data"
    },
    {
     "data": {
      "application/vnd.jupyter.widget-view+json": {
       "model_id": "67da4e45de4c4529bc6aa093bc39a4a6",
       "version_major": 2,
       "version_minor": 0
      },
      "text/plain": [
       "MAECalculator:   0%|          | 0/7716 [00:00<?, ?it/s]"
      ]
     },
     "metadata": {},
     "output_type": "display_data"
    },
    {
     "data": {
      "application/vnd.jupyter.widget-view+json": {
       "model_id": "c01421e1c06741e6a7d0251dc923d811",
       "version_major": 2,
       "version_minor": 0
      },
      "text/plain": [
       "MSECalculator:   0%|          | 0/7716 [00:00<?, ?it/s]"
      ]
     },
     "metadata": {},
     "output_type": "display_data"
    },
    {
     "data": {
      "application/vnd.jupyter.widget-view+json": {
       "model_id": "8093b3a32565448db4b81ab32c60b02f",
       "version_major": 2,
       "version_minor": 0
      },
      "text/plain": [
       "MAECalculator:   0%|          | 0/7716 [00:00<?, ?it/s]"
      ]
     },
     "metadata": {},
     "output_type": "display_data"
    },
    {
     "data": {
      "application/vnd.jupyter.widget-view+json": {
       "model_id": "05745a33bc5b4d8bbeb6750baf7abd7f",
       "version_major": 2,
       "version_minor": 0
      },
      "text/plain": [
       "MSECalculator:   0%|          | 0/7716 [00:00<?, ?it/s]"
      ]
     },
     "metadata": {},
     "output_type": "display_data"
    },
    {
     "data": {
      "application/vnd.jupyter.widget-view+json": {
       "model_id": "319a50db22e14671883af47cd68dc3fe",
       "version_major": 2,
       "version_minor": 0
      },
      "text/plain": [
       "MAECalculator:   0%|          | 0/7716 [00:00<?, ?it/s]"
      ]
     },
     "metadata": {},
     "output_type": "display_data"
    },
    {
     "data": {
      "application/vnd.jupyter.widget-view+json": {
       "model_id": "9d1b86d96f934332aeb25a834be5b19e",
       "version_major": 2,
       "version_minor": 0
      },
      "text/plain": [
       "MSECalculator:   0%|          | 0/7716 [00:00<?, ?it/s]"
      ]
     },
     "metadata": {},
     "output_type": "display_data"
    },
    {
     "data": {
      "application/vnd.jupyter.widget-view+json": {
       "model_id": "d4506ac77f754aa3ba7935e51fb0c3a9",
       "version_major": 2,
       "version_minor": 0
      },
      "text/plain": [
       "MAECalculator:   0%|          | 0/7716 [00:00<?, ?it/s]"
      ]
     },
     "metadata": {},
     "output_type": "display_data"
    },
    {
     "data": {
      "application/vnd.jupyter.widget-view+json": {
       "model_id": "e6580d45eda2487da5ed98d1d603f690",
       "version_major": 2,
       "version_minor": 0
      },
      "text/plain": [
       "MSECalculator:   0%|          | 0/7716 [00:00<?, ?it/s]"
      ]
     },
     "metadata": {},
     "output_type": "display_data"
    },
    {
     "data": {
      "application/vnd.jupyter.widget-view+json": {
       "model_id": "f0e216d487b74e9b984433b7609c7155",
       "version_major": 2,
       "version_minor": 0
      },
      "text/plain": [
       "MAECalculator:   0%|          | 0/7716 [00:00<?, ?it/s]"
      ]
     },
     "metadata": {},
     "output_type": "display_data"
    },
    {
     "data": {
      "application/vnd.jupyter.widget-view+json": {
       "model_id": "55ad98f145df49ed90c94f1af08aabd3",
       "version_major": 2,
       "version_minor": 0
      },
      "text/plain": [
       "MSECalculator:   0%|          | 0/7716 [00:00<?, ?it/s]"
      ]
     },
     "metadata": {},
     "output_type": "display_data"
    },
    {
     "data": {
      "application/vnd.jupyter.widget-view+json": {
       "model_id": "d7077e82f1c244b5bfb3a1dfe1e58776",
       "version_major": 2,
       "version_minor": 0
      },
      "text/plain": [
       "MAECalculator:   0%|          | 0/7716 [00:00<?, ?it/s]"
      ]
     },
     "metadata": {},
     "output_type": "display_data"
    },
    {
     "data": {
      "application/vnd.jupyter.widget-view+json": {
       "model_id": "caac09de4e6b445a86ec0dc165a9c045",
       "version_major": 2,
       "version_minor": 0
      },
      "text/plain": [
       "MSECalculator:   0%|          | 0/7716 [00:00<?, ?it/s]"
      ]
     },
     "metadata": {},
     "output_type": "display_data"
    },
    {
     "data": {
      "application/vnd.jupyter.widget-view+json": {
       "model_id": "83482b5d930e42148b612083847b5419",
       "version_major": 2,
       "version_minor": 0
      },
      "text/plain": [
       "MAECalculator:   0%|          | 0/7716 [00:00<?, ?it/s]"
      ]
     },
     "metadata": {},
     "output_type": "display_data"
    },
    {
     "data": {
      "application/vnd.jupyter.widget-view+json": {
       "model_id": "7af2fd95dcf84b12806504c7744d1361",
       "version_major": 2,
       "version_minor": 0
      },
      "text/plain": [
       "MSECalculator:   0%|          | 0/7716 [00:00<?, ?it/s]"
      ]
     },
     "metadata": {},
     "output_type": "display_data"
    },
    {
     "data": {
      "application/vnd.jupyter.widget-view+json": {
       "model_id": "00ccc71715164266851325d493429dc8",
       "version_major": 2,
       "version_minor": 0
      },
      "text/plain": [
       "MAECalculator:   0%|          | 0/7716 [00:00<?, ?it/s]"
      ]
     },
     "metadata": {},
     "output_type": "display_data"
    },
    {
     "data": {
      "application/vnd.jupyter.widget-view+json": {
       "model_id": "1f86bf7421d7427c8419f0a8cb6495e3",
       "version_major": 2,
       "version_minor": 0
      },
      "text/plain": [
       "MSECalculator:   0%|          | 0/7716 [00:00<?, ?it/s]"
      ]
     },
     "metadata": {},
     "output_type": "display_data"
    },
    {
     "data": {
      "application/vnd.jupyter.widget-view+json": {
       "model_id": "6eb6ca786ab1415087124460329075f6",
       "version_major": 2,
       "version_minor": 0
      },
      "text/plain": [
       "MAECalculator:   0%|          | 0/7716 [00:00<?, ?it/s]"
      ]
     },
     "metadata": {},
     "output_type": "display_data"
    },
    {
     "data": {
      "application/vnd.jupyter.widget-view+json": {
       "model_id": "7cf68e813bbe44bcad67bae9955f6046",
       "version_major": 2,
       "version_minor": 0
      },
      "text/plain": [
       "OriginalAudio:   0%|          | 0/10 [00:00<?, ?it/s]"
      ]
     },
     "metadata": {},
     "output_type": "display_data"
    },
    {
     "data": {
      "application/vnd.jupyter.widget-view+json": {
       "model_id": "4c7bb84b72b34053973a06c1f98773de",
       "version_major": 2,
       "version_minor": 0
      },
      "text/plain": [
       "GilbertElliotPLS_s1:   0%|          | 0/3951360 [00:00<?, ?it/s]"
      ]
     },
     "metadata": {},
     "output_type": "display_data"
    },
    {
     "data": {
      "application/vnd.jupyter.widget-view+json": {
       "model_id": "70fc0c0dda744849aeb188a863162145",
       "version_major": 2,
       "version_minor": 0
      },
      "text/plain": [
       "BinomialPLS_s1:   0%|          | 0/3951360 [00:00<?, ?it/s]"
      ]
     },
     "metadata": {},
     "output_type": "display_data"
    },
    {
     "data": {
      "application/vnd.jupyter.widget-view+json": {
       "model_id": "886f8c3fa2524a7d94fe660cf9de379f",
       "version_major": 2,
       "version_minor": 0
      },
      "text/plain": [
       "AdvancedPLC:   0%|          | 0/2 [00:00<?, ?it/s]"
      ]
     },
     "metadata": {},
     "output_type": "display_data"
    },
    {
     "data": {
      "application/vnd.jupyter.widget-view+json": {
       "model_id": "a5c673c792bc4cd3868a518ca9b82f13",
       "version_major": 2,
       "version_minor": 0
      },
      "text/plain": [
       "Mid:   0%|          | 0/3 [00:00<?, ?it/s]"
      ]
     },
     "metadata": {},
     "output_type": "display_data"
    },
    {
     "data": {
      "application/vnd.jupyter.widget-view+json": {
       "model_id": "9df4b07093b8483fa1556cd47cf61dd4",
       "version_major": 2,
       "version_minor": 0
      },
      "text/plain": [
       "BurgPLC:   0%|          | 0/123480 [00:00<?, ?it/s]"
      ]
     },
     "metadata": {},
     "output_type": "display_data"
    },
    {
     "data": {
      "application/vnd.jupyter.widget-view+json": {
       "model_id": "c0a14d05b0364af6a9644b415aaf863e",
       "version_major": 2,
       "version_minor": 0
      },
      "text/plain": [
       "BurgPLC:   0%|          | 0/123480 [00:00<?, ?it/s]"
      ]
     },
     "metadata": {},
     "output_type": "display_data"
    },
    {
     "data": {
      "application/vnd.jupyter.widget-view+json": {
       "model_id": "826e2c2f8f0a4841b88e23c9e1363d6f",
       "version_major": 2,
       "version_minor": 0
      },
      "text/plain": [
       "BurgPLC:   0%|          | 0/123480 [00:00<?, ?it/s]"
      ]
     },
     "metadata": {},
     "output_type": "display_data"
    },
    {
     "data": {
      "application/vnd.jupyter.widget-view+json": {
       "model_id": "4b296061a1744b61885385daf9c6f2dc",
       "version_major": 2,
       "version_minor": 0
      },
      "text/plain": [
       "Side:   0%|          | 0/2 [00:00<?, ?it/s]"
      ]
     },
     "metadata": {},
     "output_type": "display_data"
    },
    {
     "data": {
      "application/vnd.jupyter.widget-view+json": {
       "model_id": "7675f56c768f472889beed1df165c150",
       "version_major": 2,
       "version_minor": 0
      },
      "text/plain": [
       "BurgPLC:   0%|          | 0/123480 [00:00<?, ?it/s]"
      ]
     },
     "metadata": {},
     "output_type": "display_data"
    },
    {
     "data": {
      "application/vnd.jupyter.widget-view+json": {
       "model_id": "35403bc85c40463484a15108f8937403",
       "version_major": 2,
       "version_minor": 0
      },
      "text/plain": [
       "BurgPLC:   0%|          | 0/123480 [00:00<?, ?it/s]"
      ]
     },
     "metadata": {},
     "output_type": "display_data"
    },
    {
     "data": {
      "application/vnd.jupyter.widget-view+json": {
       "model_id": "05815e047ea8482cbe2f2bdac9a6b93a",
       "version_major": 2,
       "version_minor": 0
      },
      "text/plain": [
       "ZerosPLC:   0%|          | 0/123480 [00:00<?, ?it/s]"
      ]
     },
     "metadata": {},
     "output_type": "display_data"
    },
    {
     "data": {
      "application/vnd.jupyter.widget-view+json": {
       "model_id": "4b8c89efc0f445f38978630334a4d1ac",
       "version_major": 2,
       "version_minor": 0
      },
      "text/plain": [
       "LastPacketPLC:   0%|          | 0/123480 [00:00<?, ?it/s]"
      ]
     },
     "metadata": {},
     "output_type": "display_data"
    },
    {
     "data": {
      "application/vnd.jupyter.widget-view+json": {
       "model_id": "4662043ffee84473ba555af17a3a1268",
       "version_major": 2,
       "version_minor": 0
      },
      "text/plain": [
       "LowCostPLC:   0%|          | 0/123480 [00:00<?, ?it/s]"
      ]
     },
     "metadata": {},
     "output_type": "display_data"
    },
    {
     "data": {
      "application/vnd.jupyter.widget-view+json": {
       "model_id": "540682386fda4cf4a790d04b90328a7d",
       "version_major": 2,
       "version_minor": 0
      },
      "text/plain": [
       "BurgPLC:   0%|          | 0/123480 [00:00<?, ?it/s]"
      ]
     },
     "metadata": {},
     "output_type": "display_data"
    },
    {
     "data": {
      "application/vnd.jupyter.widget-view+json": {
       "model_id": "e0f3cb28572f4630ade589a107c905d7",
       "version_major": 2,
       "version_minor": 0
      },
      "text/plain": [
       "AdvancedPLC:   0%|          | 0/2 [00:00<?, ?it/s]"
      ]
     },
     "metadata": {},
     "output_type": "display_data"
    },
    {
     "data": {
      "application/vnd.jupyter.widget-view+json": {
       "model_id": "a3bd94a0a8894e12b0bbc85acb1c29ed",
       "version_major": 2,
       "version_minor": 0
      },
      "text/plain": [
       "Mid:   0%|          | 0/3 [00:00<?, ?it/s]"
      ]
     },
     "metadata": {},
     "output_type": "display_data"
    },
    {
     "data": {
      "application/vnd.jupyter.widget-view+json": {
       "model_id": "64ef25f42c794fce8b5e5fc58739553a",
       "version_major": 2,
       "version_minor": 0
      },
      "text/plain": [
       "BurgPLC:   0%|          | 0/123480 [00:00<?, ?it/s]"
      ]
     },
     "metadata": {},
     "output_type": "display_data"
    },
    {
     "data": {
      "application/vnd.jupyter.widget-view+json": {
       "model_id": "cca52f2d049d4de79a9d54ec3a2b1eb1",
       "version_major": 2,
       "version_minor": 0
      },
      "text/plain": [
       "BurgPLC:   0%|          | 0/123480 [00:00<?, ?it/s]"
      ]
     },
     "metadata": {},
     "output_type": "display_data"
    },
    {
     "data": {
      "application/vnd.jupyter.widget-view+json": {
       "model_id": "fcb57fee80384c5bb27bdc05b7efa14d",
       "version_major": 2,
       "version_minor": 0
      },
      "text/plain": [
       "BurgPLC:   0%|          | 0/123480 [00:00<?, ?it/s]"
      ]
     },
     "metadata": {},
     "output_type": "display_data"
    },
    {
     "data": {
      "application/vnd.jupyter.widget-view+json": {
       "model_id": "d271b32d329449a5a2924973a7b55e35",
       "version_major": 2,
       "version_minor": 0
      },
      "text/plain": [
       "Side:   0%|          | 0/2 [00:00<?, ?it/s]"
      ]
     },
     "metadata": {},
     "output_type": "display_data"
    },
    {
     "data": {
      "application/vnd.jupyter.widget-view+json": {
       "model_id": "21311aaf321e44fe9eb6bcebdb341dd3",
       "version_major": 2,
       "version_minor": 0
      },
      "text/plain": [
       "BurgPLC:   0%|          | 0/123480 [00:00<?, ?it/s]"
      ]
     },
     "metadata": {},
     "output_type": "display_data"
    },
    {
     "data": {
      "application/vnd.jupyter.widget-view+json": {
       "model_id": "9aad196e10254b39af20976a1aeaba3a",
       "version_major": 2,
       "version_minor": 0
      },
      "text/plain": [
       "BurgPLC:   0%|          | 0/123480 [00:00<?, ?it/s]"
      ]
     },
     "metadata": {},
     "output_type": "display_data"
    },
    {
     "data": {
      "application/vnd.jupyter.widget-view+json": {
       "model_id": "3936ee9e7fd8488686308ce94523280f",
       "version_major": 2,
       "version_minor": 0
      },
      "text/plain": [
       "ZerosPLC:   0%|          | 0/123480 [00:00<?, ?it/s]"
      ]
     },
     "metadata": {},
     "output_type": "display_data"
    },
    {
     "data": {
      "application/vnd.jupyter.widget-view+json": {
       "model_id": "5cbec732c8fa49b092ba0582d65d2700",
       "version_major": 2,
       "version_minor": 0
      },
      "text/plain": [
       "LastPacketPLC:   0%|          | 0/123480 [00:00<?, ?it/s]"
      ]
     },
     "metadata": {},
     "output_type": "display_data"
    },
    {
     "data": {
      "application/vnd.jupyter.widget-view+json": {
       "model_id": "7145cdecc28e4033b8cb3e6b562fe541",
       "version_major": 2,
       "version_minor": 0
      },
      "text/plain": [
       "LowCostPLC:   0%|          | 0/123480 [00:00<?, ?it/s]"
      ]
     },
     "metadata": {},
     "output_type": "display_data"
    },
    {
     "data": {
      "application/vnd.jupyter.widget-view+json": {
       "model_id": "bca0bdbac9594a8899a0520e2a069ef1",
       "version_major": 2,
       "version_minor": 0
      },
      "text/plain": [
       "BurgPLC:   0%|          | 0/123480 [00:00<?, ?it/s]"
      ]
     },
     "metadata": {},
     "output_type": "display_data"
    },
    {
     "data": {
      "application/vnd.jupyter.widget-view+json": {
       "model_id": "3d133995ed8f4b48bfec56bf2a4c22e4",
       "version_major": 2,
       "version_minor": 0
      },
      "text/plain": [
       "MSECalculator:   0%|          | 0/7716 [00:00<?, ?it/s]"
      ]
     },
     "metadata": {},
     "output_type": "display_data"
    },
    {
     "data": {
      "application/vnd.jupyter.widget-view+json": {
       "model_id": "6007543ccb03407d8247b19389d7b7fd",
       "version_major": 2,
       "version_minor": 0
      },
      "text/plain": [
       "MAECalculator:   0%|          | 0/7716 [00:00<?, ?it/s]"
      ]
     },
     "metadata": {},
     "output_type": "display_data"
    },
    {
     "data": {
      "application/vnd.jupyter.widget-view+json": {
       "model_id": "a1a6236efc614d29bc5f203bfff54290",
       "version_major": 2,
       "version_minor": 0
      },
      "text/plain": [
       "MSECalculator:   0%|          | 0/7716 [00:00<?, ?it/s]"
      ]
     },
     "metadata": {},
     "output_type": "display_data"
    },
    {
     "data": {
      "application/vnd.jupyter.widget-view+json": {
       "model_id": "1fda34e7c9fa4e92b9e64e5cc1ed7844",
       "version_major": 2,
       "version_minor": 0
      },
      "text/plain": [
       "MAECalculator:   0%|          | 0/7716 [00:00<?, ?it/s]"
      ]
     },
     "metadata": {},
     "output_type": "display_data"
    },
    {
     "data": {
      "application/vnd.jupyter.widget-view+json": {
       "model_id": "8206562fcd10414fa738d92770c36c7a",
       "version_major": 2,
       "version_minor": 0
      },
      "text/plain": [
       "MSECalculator:   0%|          | 0/7716 [00:00<?, ?it/s]"
      ]
     },
     "metadata": {},
     "output_type": "display_data"
    },
    {
     "data": {
      "application/vnd.jupyter.widget-view+json": {
       "model_id": "5bf1f3a0774440df8ec9fc16641d64f9",
       "version_major": 2,
       "version_minor": 0
      },
      "text/plain": [
       "MAECalculator:   0%|          | 0/7716 [00:00<?, ?it/s]"
      ]
     },
     "metadata": {},
     "output_type": "display_data"
    },
    {
     "data": {
      "application/vnd.jupyter.widget-view+json": {
       "model_id": "e340c6850a04480ab0f00e2d1f83e166",
       "version_major": 2,
       "version_minor": 0
      },
      "text/plain": [
       "MSECalculator:   0%|          | 0/7716 [00:00<?, ?it/s]"
      ]
     },
     "metadata": {},
     "output_type": "display_data"
    },
    {
     "data": {
      "application/vnd.jupyter.widget-view+json": {
       "model_id": "e68b416d70d745b0b1f679d08d92ad00",
       "version_major": 2,
       "version_minor": 0
      },
      "text/plain": [
       "MAECalculator:   0%|          | 0/7716 [00:00<?, ?it/s]"
      ]
     },
     "metadata": {},
     "output_type": "display_data"
    },
    {
     "data": {
      "application/vnd.jupyter.widget-view+json": {
       "model_id": "f80463de20064e5183c0965d36044451",
       "version_major": 2,
       "version_minor": 0
      },
      "text/plain": [
       "MSECalculator:   0%|          | 0/7716 [00:00<?, ?it/s]"
      ]
     },
     "metadata": {},
     "output_type": "display_data"
    },
    {
     "data": {
      "application/vnd.jupyter.widget-view+json": {
       "model_id": "e61cfc96b76345d4a9752202065633b3",
       "version_major": 2,
       "version_minor": 0
      },
      "text/plain": [
       "MAECalculator:   0%|          | 0/7716 [00:00<?, ?it/s]"
      ]
     },
     "metadata": {},
     "output_type": "display_data"
    },
    {
     "data": {
      "application/vnd.jupyter.widget-view+json": {
       "model_id": "b3acdee96564456f92a5681f51d391aa",
       "version_major": 2,
       "version_minor": 0
      },
      "text/plain": [
       "MSECalculator:   0%|          | 0/7716 [00:00<?, ?it/s]"
      ]
     },
     "metadata": {},
     "output_type": "display_data"
    },
    {
     "data": {
      "application/vnd.jupyter.widget-view+json": {
       "model_id": "1b2f7c28efec420cba8b1e5141379a1d",
       "version_major": 2,
       "version_minor": 0
      },
      "text/plain": [
       "MAECalculator:   0%|          | 0/7716 [00:00<?, ?it/s]"
      ]
     },
     "metadata": {},
     "output_type": "display_data"
    },
    {
     "data": {
      "application/vnd.jupyter.widget-view+json": {
       "model_id": "85f4a31e0a1e48269cfef1c9e4a1dc38",
       "version_major": 2,
       "version_minor": 0
      },
      "text/plain": [
       "MSECalculator:   0%|          | 0/7716 [00:00<?, ?it/s]"
      ]
     },
     "metadata": {},
     "output_type": "display_data"
    },
    {
     "data": {
      "application/vnd.jupyter.widget-view+json": {
       "model_id": "ec27d240c7314f1889ef8c0ccf7ef6d7",
       "version_major": 2,
       "version_minor": 0
      },
      "text/plain": [
       "MAECalculator:   0%|          | 0/7716 [00:00<?, ?it/s]"
      ]
     },
     "metadata": {},
     "output_type": "display_data"
    },
    {
     "data": {
      "application/vnd.jupyter.widget-view+json": {
       "model_id": "8f27c082fcab4d1bbd94b4cec173046b",
       "version_major": 2,
       "version_minor": 0
      },
      "text/plain": [
       "MSECalculator:   0%|          | 0/7716 [00:00<?, ?it/s]"
      ]
     },
     "metadata": {},
     "output_type": "display_data"
    },
    {
     "data": {
      "application/vnd.jupyter.widget-view+json": {
       "model_id": "1c99b2c7eea9482191c62e6631f1c32f",
       "version_major": 2,
       "version_minor": 0
      },
      "text/plain": [
       "MAECalculator:   0%|          | 0/7716 [00:00<?, ?it/s]"
      ]
     },
     "metadata": {},
     "output_type": "display_data"
    },
    {
     "data": {
      "application/vnd.jupyter.widget-view+json": {
       "model_id": "4c89bb2abb2841c492faa99d0a651600",
       "version_major": 2,
       "version_minor": 0
      },
      "text/plain": [
       "MSECalculator:   0%|          | 0/7716 [00:00<?, ?it/s]"
      ]
     },
     "metadata": {},
     "output_type": "display_data"
    },
    {
     "data": {
      "application/vnd.jupyter.widget-view+json": {
       "model_id": "ee760e1a107640fc8168bbd9ad64defe",
       "version_major": 2,
       "version_minor": 0
      },
      "text/plain": [
       "MAECalculator:   0%|          | 0/7716 [00:00<?, ?it/s]"
      ]
     },
     "metadata": {},
     "output_type": "display_data"
    },
    {
     "data": {
      "application/vnd.jupyter.widget-view+json": {
       "model_id": "493b83440b294a2180721e50a3736b92",
       "version_major": 2,
       "version_minor": 0
      },
      "text/plain": [
       "MSECalculator:   0%|          | 0/7716 [00:00<?, ?it/s]"
      ]
     },
     "metadata": {},
     "output_type": "display_data"
    },
    {
     "data": {
      "application/vnd.jupyter.widget-view+json": {
       "model_id": "1644e79ffac94cbdac14ca2ab94f2807",
       "version_major": 2,
       "version_minor": 0
      },
      "text/plain": [
       "MAECalculator:   0%|          | 0/7716 [00:00<?, ?it/s]"
      ]
     },
     "metadata": {},
     "output_type": "display_data"
    }
   ],
   "source": [
    "testbench.run()"
   ]
  },
  {
   "cell_type": "code",
   "execution_count": null,
   "metadata": {},
   "outputs": [],
   "source": [
    "%matplotlib inline\n",
    "testbench.plot(to_file=True, original_tracks=True, lost_samples_masks=True, output_analyses=True)"
   ]
  }
 ],
 "metadata": {
  "kernelspec": {
   "display_name": ".vanilla_venv",
   "language": "python",
   "name": "python3"
  },
  "language_info": {
   "codemirror_mode": {
    "name": "ipython",
    "version": 3
   },
   "file_extension": ".py",
   "mimetype": "text/x-python",
   "name": "python",
   "nbconvert_exporter": "python",
   "pygments_lexer": "ipython3",
   "version": "3.10.13"
  },
  "vscode": {
   "interpreter": {
    "hash": "2cc8ff84be1dff75fd8d0f329b6cb7fa2d83fc2b8b0b45b97b39a5625e8c2b22"
   }
  }
 },
 "nbformat": 4,
 "nbformat_minor": 4
}

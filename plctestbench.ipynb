{
 "cells": [
  {
   "attachments": {},
   "cell_type": "markdown",
   "metadata": {},
   "source": [
    "# PLCTestbench"
   ]
  },
  {
   "cell_type": "code",
   "execution_count": null,
   "metadata": {},
   "outputs": [],
   "source": [
    "from plctestbench.data_manager import DataManager\n",
    "from plctestbench.path_manager import PathManager\n",
    "from plctestbench.settings import Settings\n",
    "%matplotlib inline\n",
    "\n",
    "settings = Settings(packet_size=64, fs = 48000, per=0.005, peaq_mode=\"basic\", seed=234, model_path = \"../saved_models/model_bs256_100epochs_0.01_1e-3_1e-7\", p=0.001, r=0.05, h=0.5, k=0.99999900)\n",
    "path_manager = PathManager('../original_tracks')\n",
    "data_manager = DataManager(path_manager)"
   ]
  },
  {
   "cell_type": "code",
   "execution_count": null,
   "metadata": {
    "scrolled": false,
    "tags": [
     "outputPrepend",
     "outputPrepend"
    ]
   },
   "outputs": [],
   "source": [
    "from plctestbench.plc_testbench import PLCTestbench\n",
    "from plctestbench.loss_simulator import BinomialLossSimulator, GilbertElliotLossSimulator\n",
    "from plctestbench.plc_algorithm import ZerosPLC, LastPacketPLC, LowCostPLC, ExternalPLC, DeepLearningPLC\n",
    "from plctestbench.output_analyser import MSECalculator, PEAQCalculator, SpectralEnergyCalculator\n",
    "\n",
    "loss_simulators = [GilbertElliotLossSimulator, BinomialLossSimulator]\n",
    "ecc_algorithms = [LowCostPLC, ZerosPLC]\n",
    "output_analysers = [MSECalculator, PEAQCalculator]\n",
    "\n",
    "testbench = PLCTestbench(loss_simulators, ecc_algorithms, output_analysers, settings, data_manager, path_manager)\n",
    "\n",
    "testbench.run()"
   ]
  },
  {
   "cell_type": "code",
   "execution_count": null,
   "metadata": {},
   "outputs": [],
   "source": [
    "testbench.plot(show=False, to_file=True, group=False, original_tracks=True, lost_samples_masks=True, output_analyses=True, peaq_summary=False)"
   ]
  }
 ],
 "metadata": {
  "kernelspec": {
   "display_name": ".vanilla_venv",
   "language": "python",
   "name": "python3"
  },
  "language_info": {
   "codemirror_mode": {
    "name": "ipython",
    "version": 3
   },
   "file_extension": ".py",
   "mimetype": "text/x-python",
   "name": "python",
   "nbconvert_exporter": "python",
   "pygments_lexer": "ipython3",
   "version": "3.10.8"
  },
  "vscode": {
   "interpreter": {
    "hash": "2cc8ff84be1dff75fd8d0f329b6cb7fa2d83fc2b8b0b45b97b39a5625e8c2b22"
   }
  }
 },
 "nbformat": 4,
 "nbformat_minor": 4
}
